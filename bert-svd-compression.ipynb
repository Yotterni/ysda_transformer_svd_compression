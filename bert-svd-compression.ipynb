{
 "cells": [
  {
   "cell_type": "code",
   "execution_count": 1,
   "id": "1a82db70",
   "metadata": {},
   "outputs": [],
   "source": [
    "from transformers import AutoTokenizer, AutoModelForSequenceClassification\n",
    "from transformers import AutoTokenizer, AutoModelForMaskedLM, pipeline\n",
    "from datasets import load_dataset\n",
    "\n",
    "import numpy as np\n",
    "import torch\n",
    "from torch import nn\n",
    "from torch.utils.data import DataLoader\n",
    "from torchvision import transforms\n",
    "from torchvision.datasets import ImageFolder\n",
    "from torchmetrics import Accuracy\n",
    "import matplotlib.pyplot as plt\n",
    "import tqdm\n",
    "import json\n",
    "import random"
   ]
  },
  {
   "cell_type": "code",
   "execution_count": 2,
   "id": "a9acd43e",
   "metadata": {},
   "outputs": [
    {
     "name": "stderr",
     "output_type": "stream",
     "text": [
      "Some weights of the model checkpoint at google-bert/bert-large-uncased-whole-word-masking were not used when initializing BertForMaskedLM: ['bert.pooler.dense.bias', 'bert.pooler.dense.weight', 'cls.seq_relationship.bias', 'cls.seq_relationship.weight']\n",
      "- This IS expected if you are initializing BertForMaskedLM from the checkpoint of a model trained on another task or with another architecture (e.g. initializing a BertForSequenceClassification model from a BertForPreTraining model).\n",
      "- This IS NOT expected if you are initializing BertForMaskedLM from the checkpoint of a model that you expect to be exactly identical (initializing a BertForSequenceClassification model from a BertForSequenceClassification model).\n",
      "Some weights of the model checkpoint at google-bert/bert-large-uncased-whole-word-masking were not used when initializing BertForMaskedLM: ['bert.pooler.dense.bias', 'bert.pooler.dense.weight', 'cls.seq_relationship.bias', 'cls.seq_relationship.weight']\n",
      "- This IS expected if you are initializing BertForMaskedLM from the checkpoint of a model trained on another task or with another architecture (e.g. initializing a BertForSequenceClassification model from a BertForPreTraining model).\n",
      "- This IS NOT expected if you are initializing BertForMaskedLM from the checkpoint of a model that you expect to be exactly identical (initializing a BertForSequenceClassification model from a BertForSequenceClassification model).\n",
      "Device set to use cuda:0\n"
     ]
    }
   ],
   "source": [
    "tokenizer = AutoTokenizer.from_pretrained(\"google-bert/bert-large-uncased-whole-word-masking\")\n",
    "model = AutoModelForMaskedLM.from_pretrained(\"google-bert/bert-large-uncased-whole-word-masking\")\n",
    "pipe = pipeline(\"fill-mask\", model=\"google-bert/bert-large-uncased-whole-word-masking\")"
   ]
  },
  {
   "cell_type": "code",
   "execution_count": 3,
   "id": "9b610e4f",
   "metadata": {},
   "outputs": [
    {
     "data": {
      "text/plain": [
       "BertForMaskedLM(\n",
       "  (bert): BertModel(\n",
       "    (embeddings): BertEmbeddings(\n",
       "      (word_embeddings): Embedding(30522, 1024, padding_idx=0)\n",
       "      (position_embeddings): Embedding(512, 1024)\n",
       "      (token_type_embeddings): Embedding(2, 1024)\n",
       "      (LayerNorm): LayerNorm((1024,), eps=1e-12, elementwise_affine=True)\n",
       "      (dropout): Dropout(p=0.1, inplace=False)\n",
       "    )\n",
       "    (encoder): BertEncoder(\n",
       "      (layer): ModuleList(\n",
       "        (0-23): 24 x BertLayer(\n",
       "          (attention): BertAttention(\n",
       "            (self): BertSdpaSelfAttention(\n",
       "              (query): Linear(in_features=1024, out_features=1024, bias=True)\n",
       "              (key): Linear(in_features=1024, out_features=1024, bias=True)\n",
       "              (value): Linear(in_features=1024, out_features=1024, bias=True)\n",
       "              (dropout): Dropout(p=0.1, inplace=False)\n",
       "            )\n",
       "            (output): BertSelfOutput(\n",
       "              (dense): Linear(in_features=1024, out_features=1024, bias=True)\n",
       "              (LayerNorm): LayerNorm((1024,), eps=1e-12, elementwise_affine=True)\n",
       "              (dropout): Dropout(p=0.1, inplace=False)\n",
       "            )\n",
       "          )\n",
       "          (intermediate): BertIntermediate(\n",
       "            (dense): Linear(in_features=1024, out_features=4096, bias=True)\n",
       "            (intermediate_act_fn): GELUActivation()\n",
       "          )\n",
       "          (output): BertOutput(\n",
       "            (dense): Linear(in_features=4096, out_features=1024, bias=True)\n",
       "            (LayerNorm): LayerNorm((1024,), eps=1e-12, elementwise_affine=True)\n",
       "            (dropout): Dropout(p=0.1, inplace=False)\n",
       "          )\n",
       "        )\n",
       "      )\n",
       "    )\n",
       "  )\n",
       "  (cls): BertOnlyMLMHead(\n",
       "    (predictions): BertLMPredictionHead(\n",
       "      (transform): BertPredictionHeadTransform(\n",
       "        (dense): Linear(in_features=1024, out_features=1024, bias=True)\n",
       "        (transform_act_fn): GELUActivation()\n",
       "        (LayerNorm): LayerNorm((1024,), eps=1e-12, elementwise_affine=True)\n",
       "      )\n",
       "      (decoder): Linear(in_features=1024, out_features=30522, bias=True)\n",
       "    )\n",
       "  )\n",
       ")"
      ]
     },
     "execution_count": 3,
     "metadata": {},
     "output_type": "execute_result"
    }
   ],
   "source": [
    "def GetOriginalModel() -> nn.Module:\n",
    "    return AutoModelForMaskedLM.from_pretrained(\"google-bert/bert-large-uncased-whole-word-masking\")\n",
    "\n",
    "model"
   ]
  },
  {
   "cell_type": "code",
   "execution_count": 4,
   "id": "93120480",
   "metadata": {},
   "outputs": [
    {
     "name": "stdout",
     "output_type": "stream",
     "text": [
      "Overall parameter count: 335174458\n",
      "Attention weight parameter count: 75497472\n",
      "Attention weight parameter ratio: 0.22524828547645478\n"
     ]
    }
   ],
   "source": [
    "print(\"Overall parameter count:\", model.num_parameters())\n",
    "print(\"Attention weight parameter count:\", 1024 * 1024 * 3 * 24)\n",
    "print(\"Attention weight parameter ratio:\", 1024 * 1024 * 3 * 24 / model.num_parameters())"
   ]
  },
  {
   "cell_type": "code",
   "execution_count": 5,
   "id": "6bdcb290",
   "metadata": {},
   "outputs": [
    {
     "name": "stderr",
     "output_type": "stream",
     "text": [
      "100%|██████████| 24/24 [00:00<00:00, 10341.41it/s]\n",
      "  4%|▍         | 1/24 [00:52<19:59, 52.17s/it]\n"
     ]
    },
    {
     "ename": "KeyboardInterrupt",
     "evalue": "",
     "output_type": "error",
     "traceback": [
      "\u001b[31m---------------------------------------------------------------------------\u001b[39m",
      "\u001b[31mKeyboardInterrupt\u001b[39m                         Traceback (most recent call last)",
      "\u001b[36mCell\u001b[39m\u001b[36m \u001b[39m\u001b[32mIn[5]\u001b[39m\u001b[32m, line 26\u001b[39m\n\u001b[32m     23\u001b[39m weights_key_variance_ratio.append(np.cumsum(Sigma) / np.sum(Sigma))\n\u001b[32m     25\u001b[39m weights = weights_value_matrices[i]\n\u001b[32m---> \u001b[39m\u001b[32m26\u001b[39m U, Sigma, V = \u001b[43mnp\u001b[49m\u001b[43m.\u001b[49m\u001b[43mlinalg\u001b[49m\u001b[43m.\u001b[49m\u001b[43msvd\u001b[49m\u001b[43m(\u001b[49m\u001b[43mweights\u001b[49m\u001b[43m)\u001b[49m\n\u001b[32m     27\u001b[39m weights_value_variance_ratio.append(np.cumsum(Sigma) / np.sum(Sigma))\n",
      "\u001b[36mFile \u001b[39m\u001b[32m~/transformers-env/lib/python3.12/site-packages/numpy/linalg/_linalg.py:1862\u001b[39m, in \u001b[36msvd\u001b[39m\u001b[34m(a, full_matrices, compute_uv, hermitian)\u001b[39m\n\u001b[32m   1858\u001b[39m signature = \u001b[33m'\u001b[39m\u001b[33mD->DdD\u001b[39m\u001b[33m'\u001b[39m \u001b[38;5;28;01mif\u001b[39;00m isComplexType(t) \u001b[38;5;28;01melse\u001b[39;00m \u001b[33m'\u001b[39m\u001b[33md->ddd\u001b[39m\u001b[33m'\u001b[39m\n\u001b[32m   1859\u001b[39m \u001b[38;5;28;01mwith\u001b[39;00m errstate(call=_raise_linalgerror_svd_nonconvergence,\n\u001b[32m   1860\u001b[39m               invalid=\u001b[33m'\u001b[39m\u001b[33mcall\u001b[39m\u001b[33m'\u001b[39m, over=\u001b[33m'\u001b[39m\u001b[33mignore\u001b[39m\u001b[33m'\u001b[39m, divide=\u001b[33m'\u001b[39m\u001b[33mignore\u001b[39m\u001b[33m'\u001b[39m,\n\u001b[32m   1861\u001b[39m               under=\u001b[33m'\u001b[39m\u001b[33mignore\u001b[39m\u001b[33m'\u001b[39m):\n\u001b[32m-> \u001b[39m\u001b[32m1862\u001b[39m     u, s, vh = \u001b[43mgufunc\u001b[49m\u001b[43m(\u001b[49m\u001b[43ma\u001b[49m\u001b[43m,\u001b[49m\u001b[43m \u001b[49m\u001b[43msignature\u001b[49m\u001b[43m=\u001b[49m\u001b[43msignature\u001b[49m\u001b[43m)\u001b[49m\n\u001b[32m   1863\u001b[39m u = u.astype(result_t, copy=\u001b[38;5;28;01mFalse\u001b[39;00m)\n\u001b[32m   1864\u001b[39m s = s.astype(_realType(result_t), copy=\u001b[38;5;28;01mFalse\u001b[39;00m)\n",
      "\u001b[31mKeyboardInterrupt\u001b[39m: "
     ]
    }
   ],
   "source": [
    "weights_query_matrices = []\n",
    "weights_key_matrices = []\n",
    "weights_value_matrices = []\n",
    "\n",
    "NUM_ATTENTION_LAYERS = 24\n",
    "\n",
    "for i in tqdm.tqdm(range(NUM_ATTENTION_LAYERS)):\n",
    "    weights_query_matrices.append(model.bert.encoder.layer[i].attention.self.query.weight.detach().numpy())\n",
    "    weights_key_matrices.append(model.bert.encoder.layer[i].attention.self.key.weight.detach().numpy())\n",
    "    weights_value_matrices.append(model.bert.encoder.layer[i].attention.self.value.weight.detach().numpy())\n",
    "\n",
    "weights_query_variance_ratio = []\n",
    "weights_key_variance_ratio = []\n",
    "weights_value_variance_ratio = []\n",
    "\n",
    "for i in tqdm.tqdm(range(NUM_ATTENTION_LAYERS)):\n",
    "    weights = weights_query_matrices[i]\n",
    "    U, Sigma, V = np.linalg.svd(weights)\n",
    "    weights_query_variance_ratio.append(np.cumsum(Sigma) / np.sum(Sigma))\n",
    "\n",
    "    weights = weights_key_matrices[i]\n",
    "    U, Sigma, V = np.linalg.svd(weights)\n",
    "    weights_key_variance_ratio.append(np.cumsum(Sigma) / np.sum(Sigma))\n",
    "\n",
    "    weights = weights_value_matrices[i]\n",
    "    U, Sigma, V = np.linalg.svd(weights)\n",
    "    weights_value_variance_ratio.append(np.cumsum(Sigma) / np.sum(Sigma))"
   ]
  },
  {
   "cell_type": "code",
   "execution_count": 6,
   "id": "29820551",
   "metadata": {},
   "outputs": [
    {
     "data": {
      "image/png": "[encoded data removed]",
      "text/plain": [
       "<Figure size 3000x600 with 3 Axes>"
      ]
     },
     "metadata": {},
     "output_type": "display_data"
    }
   ],
   "source": [
    "colors = ['blue', 'green', 'red']\n",
    "titles = ['Queries', 'Keys', 'Values']\n",
    "\n",
    "weights_variance_ratio = [weights_query_variance_ratio, weights_key_variance_ratio, weights_value_variance_ratio]\n",
    "\n",
    "layers_per_color = 8\n",
    "\n",
    "plt.figure(figsize=(30, 6))\n",
    "\n",
    "for j in range(3):\n",
    "    plt.subplot(1, 3, j + 1)\n",
    "    for i in range(NUM_ATTENTION_LAYERS):\n",
    "        if i % layers_per_color == layers_per_color - 1:\n",
    "            layer_num = i // layers_per_color\n",
    "            plt.plot(weights_variance_ratio[j][i], alpha=0.2 + (i % layers_per_color) * 0.05,\n",
    "                     color=colors[i // layers_per_color],\n",
    "                     label=f\"layers {layers_per_color * layer_num + 1} - {layers_per_color * layer_num + 4}\")\n",
    "        else:\n",
    "            plt.plot(weights_variance_ratio[j][i], alpha=0.2 + (i % layers_per_color) * 0.05, color=colors[i // layers_per_color])\n",
    "\n",
    "    plt.vlines(len(weights_variance_ratio[0][0]) // 2, ymin=0, ymax=1, linestyle='--', color='black')\n",
    "\n",
    "    plt.title(titles[j])\n",
    "    plt.legend()\n",
    "    plt.grid()\n",
    "\n",
    "    if j == 1:\n",
    "        plt.xlabel('Number of SVD components')\n",
    "\n",
    "plt.suptitle('google-bert/bert-large-uncased-whole-word-masking -- Explained Variance Ratio after Truncated SVD')\n",
    "\n",
    "plt.show()"
   ]
  },
  {
   "cell_type": "code",
   "execution_count": 5,
   "id": "8a0ab5cc",
   "metadata": {},
   "outputs": [],
   "source": [
    "dataset = load_dataset(\"nyu-mll/multi_nli\")"
   ]
  },
  {
   "cell_type": "code",
   "execution_count": 6,
   "id": "af4247f9",
   "metadata": {},
   "outputs": [],
   "source": [
    "dataset = dataset['validation_matched']"
   ]
  },
  {
   "cell_type": "code",
   "execution_count": 7,
   "id": "063600c8",
   "metadata": {},
   "outputs": [],
   "source": [
    "model.eval()\n",
    "\n",
    "\n",
    "def mask_tokens(text, mask_prob=0.1):\n",
    "    tokens = tokenizer.tokenize(text)\n",
    "    masked_tokens = tokens.copy()\n",
    "    masked_originals = []\n",
    "    for i in range(min(len(tokens), 512)):\n",
    "        if random.random() < mask_prob and tokens[i] not in tokenizer.all_special_tokens and len(masked_originals) < 5:\n",
    "            masked_tokens[i] = \"[MASK]\"\n",
    "            masked_originals.append(tokens[i])\n",
    "    return masked_tokens, masked_originals\n",
    "\n",
    "\n",
    "def evaluate_mask_filling(dataset, device):\n",
    "    correct = 0\n",
    "    total = 0\n",
    "    model.to(device)\n",
    "\n",
    "    for example in tqdm.tqdm(dataset):\n",
    "        text = example['premise'].strip()\n",
    "\n",
    "        masked_tokens, masked_originals = mask_tokens(text)\n",
    "        if not masked_originals:\n",
    "            continue\n",
    "\n",
    "        masked_text = \" \".join(masked_tokens)\n",
    "        outputs = pipe(masked_text)\n",
    "        if not isinstance(outputs[0], list):\n",
    "            outputs = [outputs]\n",
    "\n",
    "        for j, original_token in enumerate(masked_originals):\n",
    "            for word in outputs[j]:\n",
    "                if word['token_str'] == original_token:\n",
    "                    correct += 1\n",
    "                total += 1\n",
    "\n",
    "    accuracy = correct * 5 / total if total > 0 else 0\n",
    "    return {\"mask_filling_accuracy\": accuracy, \"total_predictions\": total, \"nun_parameters\": model.num_parameters()}\n",
    "\n",
    "\n",
    "#results = evaluate_mask_filling(dataset)\n",
    "#print(\"Evaluation results:\", results)"
   ]
  },
  {
   "cell_type": "code",
   "execution_count": 12,
   "id": "99efb3d6",
   "metadata": {},
   "outputs": [],
   "source": [
    "with open('bert-accuracy-scores/original_model.json', 'w') as file:\n",
    "    json.dump(results, file, indent=4)"
   ]
  },
  {
   "cell_type": "code",
   "execution_count": 8,
   "id": "8d36d383",
   "metadata": {},
   "outputs": [],
   "source": [
    "class TruncatedSVDLinear(nn.Module):\n",
    "    def __init__(self, rank: int, weight: torch.Tensor, bias: torch.Tensor, device: torch.device = torch.device('cpu')):\n",
    "        super().__init__()\n",
    "        U, Sigma, V = torch.linalg.svd(weight, full_matrices=False)\n",
    "        max_rank = len(Sigma)\n",
    "        SigmaDiag = torch.diag(Sigma[:min(rank, max_rank)])\n",
    "        U = U[:, :min(rank, max_rank)] @ SigmaDiag\n",
    "        V = V[:min(rank, max_rank), :]\n",
    "\n",
    "        self.U = nn.Linear(in_features=min(rank, max_rank), out_features=weight.shape[0], bias=True)\n",
    "        self.V = nn.Linear(in_features=weight.shape[1], out_features=min(rank, max_rank), bias=False)\n",
    "        self.U.weight.data.copy_(U)\n",
    "        self.U.bias.data.copy_(bias)\n",
    "        self.V.weight.data.copy_(V)\n",
    "\n",
    "    def forward(self, input):\n",
    "        return self.U(self.V(input))\n",
    "\n",
    "    def __repr__(self):\n",
    "        return f'(\\n\\t(U): {self.U.__repr__()}\\n\\t(V): {self.V.__repr__()}\\n)'"
   ]
  },
  {
   "cell_type": "code",
   "execution_count": 9,
   "id": "ed62c79a",
   "metadata": {},
   "outputs": [],
   "source": [
    "def MakeModifiedModel(\n",
    "    model: nn.Module,\n",
    "    max_rank: int,\n",
    "    max_layer: int,\n",
    "    all_layers: int,\n",
    "    device: torch.device = torch.device('cpu'),\n",
    ") -> nn.Module:\n",
    "    for i in range(min(max_layer, all_layers)):\n",
    "        print(i)\n",
    "        model.bert.encoder.layer[i].attention.self.query = TruncatedSVDLinear(\n",
    "            rank=max_rank,\n",
    "            weight=model.bert.encoder.layer[i].attention.self.query.weight.detach(),\n",
    "            bias=model.bert.encoder.layer[i].attention.self.query.bias.detach(),\n",
    "            device=device\n",
    "        )\n",
    "        model.bert.encoder.layer[i].attention.self.key = TruncatedSVDLinear(\n",
    "            rank=max_rank,\n",
    "            weight=model.bert.encoder.layer[i].attention.self.key.weight.detach(),\n",
    "            bias=model.bert.encoder.layer[i].attention.self.key.bias.detach(),\n",
    "            device=device\n",
    "        )\n",
    "        model.bert.encoder.layer[i].attention.self.value = TruncatedSVDLinear(\n",
    "            rank=max_rank,\n",
    "            weight=model.bert.encoder.layer[i].attention.self.value.weight.detach(),\n",
    "            bias=model.bert.encoder.layer[i].attention.self.value.bias.detach(),\n",
    "            device=device\n",
    "        )\n",
    "\n",
    "    return model.to(device)\n",
    "\n",
    "\n",
    "def MakeModifiedPipe(max_rank: int, max_layer: int, all_layers: int, device: torch.device) -> pipeline:\n",
    "    pipe_modified = pipeline(\n",
    "        \"fill-mask\",\n",
    "        model=MakeModifiedModel(GetOriginalModel(), max_rank, max_layer, all_layers, device),\n",
    "        tokenizer=tokenizer,\n",
    "        device=device\n",
    "    )\n",
    "    return pipe_modified"
   ]
  },
  {
   "cell_type": "code",
   "execution_count": 10,
   "id": "2e56fcdc",
   "metadata": {},
   "outputs": [],
   "source": [
    "def evaluate_piped_mask_filling(pipeline, dataset, device):\n",
    "    correct = 0\n",
    "    total = 0\n",
    "    model.to(device)\n",
    "    #dataset = dataset.to(device)\n",
    "\n",
    "    for example in tqdm.tqdm(dataset):\n",
    "        text = example['premise'].strip()\n",
    "\n",
    "        masked_tokens, masked_originals = mask_tokens(text)\n",
    "        if not masked_originals:\n",
    "            continue\n",
    "\n",
    "        masked_text = \" \".join(masked_tokens)\n",
    "        outputs = pipeline(masked_text)\n",
    "        if not isinstance(outputs[0], list):\n",
    "            outputs = [outputs]\n",
    "\n",
    "        for j, original_token in enumerate(masked_originals):\n",
    "            for word in outputs[j]:\n",
    "                if word['token_str'] == original_token:\n",
    "                    correct += 1\n",
    "                total += 1\n",
    "\n",
    "    accuracy = correct * 5 / total if total > 0 else 0\n",
    "    return {\"mask_filling_accuracy\": accuracy, \"total_predictions\": total, \"nun_parameters\": model.num_parameters()}"
   ]
  },
  {
   "cell_type": "code",
   "execution_count": 11,
   "id": "59d2c27f",
   "metadata": {},
   "outputs": [],
   "source": [
    "max_rank = 256\n",
    "NUM_ATTENTION_LAYERS = 24\n",
    "all_layers = NUM_ATTENTION_LAYERS"
   ]
  },
  {
   "cell_type": "code",
   "execution_count": 65,
   "id": "a6a87ddd",
   "metadata": {},
   "outputs": [
    {
     "name": "stdout",
     "output_type": "stream",
     "text": [
      "max_layer#10\n"
     ]
    },
    {
     "name": "stderr",
     "output_type": "stream",
     "text": [
      "Some weights of the model checkpoint at google-bert/bert-large-uncased-whole-word-masking were not used when initializing BertForMaskedLM: ['bert.pooler.dense.bias', 'bert.pooler.dense.weight', 'cls.seq_relationship.bias', 'cls.seq_relationship.weight']\n",
      "- This IS expected if you are initializing BertForMaskedLM from the checkpoint of a model trained on another task or with another architecture (e.g. initializing a BertForSequenceClassification model from a BertForPreTraining model).\n",
      "- This IS NOT expected if you are initializing BertForMaskedLM from the checkpoint of a model that you expect to be exactly identical (initializing a BertForSequenceClassification model from a BertForSequenceClassification model).\n"
     ]
    },
    {
     "name": "stdout",
     "output_type": "stream",
     "text": [
      "0\n",
      "1\n",
      "2\n",
      "3\n",
      "4\n",
      "5\n",
      "6\n",
      "7\n",
      "8\n",
      "9\n"
     ]
    },
    {
     "name": "stderr",
     "output_type": "stream",
     "text": [
      "Device set to use cuda:0\n"
     ]
    },
    {
     "name": "stdout",
     "output_type": "stream",
     "text": [
      "pipeline#10\n"
     ]
    },
    {
     "name": "stderr",
     "output_type": "stream",
     "text": [
      "  0%|          | 6/9815 [00:00<06:21, 25.71it/s]You seem to be using the pipelines sequentially on GPU. In order to maximize efficiency please use a dataset\n",
      "100%|██████████| 9815/9815 [03:55<00:00, 41.70it/s]\n"
     ]
    },
    {
     "name": "stdout",
     "output_type": "stream",
     "text": [
      "results#10\n",
      "max_layer#12\n"
     ]
    },
    {
     "name": "stderr",
     "output_type": "stream",
     "text": [
      "Some weights of the model checkpoint at google-bert/bert-large-uncased-whole-word-masking were not used when initializing BertForMaskedLM: ['bert.pooler.dense.bias', 'bert.pooler.dense.weight', 'cls.seq_relationship.bias', 'cls.seq_relationship.weight']\n",
      "- This IS expected if you are initializing BertForMaskedLM from the checkpoint of a model trained on another task or with another architecture (e.g. initializing a BertForSequenceClassification model from a BertForPreTraining model).\n",
      "- This IS NOT expected if you are initializing BertForMaskedLM from the checkpoint of a model that you expect to be exactly identical (initializing a BertForSequenceClassification model from a BertForSequenceClassification model).\n"
     ]
    },
    {
     "name": "stdout",
     "output_type": "stream",
     "text": [
      "0\n",
      "1\n",
      "2\n",
      "3\n",
      "4\n",
      "5\n",
      "6\n",
      "7\n",
      "8\n",
      "9\n",
      "10\n",
      "11\n"
     ]
    },
    {
     "name": "stderr",
     "output_type": "stream",
     "text": [
      "Device set to use cuda:0\n"
     ]
    },
    {
     "name": "stdout",
     "output_type": "stream",
     "text": [
      "pipeline#12\n"
     ]
    },
    {
     "name": "stderr",
     "output_type": "stream",
     "text": [
      "100%|██████████| 9815/9815 [04:01<00:00, 40.63it/s]\n"
     ]
    },
    {
     "name": "stdout",
     "output_type": "stream",
     "text": [
      "results#12\n",
      "max_layer#14\n"
     ]
    },
    {
     "name": "stderr",
     "output_type": "stream",
     "text": [
      "Some weights of the model checkpoint at google-bert/bert-large-uncased-whole-word-masking were not used when initializing BertForMaskedLM: ['bert.pooler.dense.bias', 'bert.pooler.dense.weight', 'cls.seq_relationship.bias', 'cls.seq_relationship.weight']\n",
      "- This IS expected if you are initializing BertForMaskedLM from the checkpoint of a model trained on another task or with another architecture (e.g. initializing a BertForSequenceClassification model from a BertForPreTraining model).\n",
      "- This IS NOT expected if you are initializing BertForMaskedLM from the checkpoint of a model that you expect to be exactly identical (initializing a BertForSequenceClassification model from a BertForSequenceClassification model).\n"
     ]
    },
    {
     "name": "stdout",
     "output_type": "stream",
     "text": [
      "0\n",
      "1\n",
      "2\n",
      "3\n",
      "4\n",
      "5\n",
      "6\n",
      "7\n",
      "8\n",
      "9\n",
      "10\n",
      "11\n",
      "12\n",
      "13\n"
     ]
    },
    {
     "name": "stderr",
     "output_type": "stream",
     "text": [
      "Device set to use cuda:0\n"
     ]
    },
    {
     "name": "stdout",
     "output_type": "stream",
     "text": [
      "pipeline#14\n"
     ]
    },
    {
     "name": "stderr",
     "output_type": "stream",
     "text": [
      "100%|██████████| 9815/9815 [04:01<00:00, 40.72it/s]\n"
     ]
    },
    {
     "name": "stdout",
     "output_type": "stream",
     "text": [
      "results#14\n",
      "max_layer#16\n"
     ]
    },
    {
     "name": "stderr",
     "output_type": "stream",
     "text": [
      "Some weights of the model checkpoint at google-bert/bert-large-uncased-whole-word-masking were not used when initializing BertForMaskedLM: ['bert.pooler.dense.bias', 'bert.pooler.dense.weight', 'cls.seq_relationship.bias', 'cls.seq_relationship.weight']\n",
      "- This IS expected if you are initializing BertForMaskedLM from the checkpoint of a model trained on another task or with another architecture (e.g. initializing a BertForSequenceClassification model from a BertForPreTraining model).\n",
      "- This IS NOT expected if you are initializing BertForMaskedLM from the checkpoint of a model that you expect to be exactly identical (initializing a BertForSequenceClassification model from a BertForSequenceClassification model).\n"
     ]
    },
    {
     "name": "stdout",
     "output_type": "stream",
     "text": [
      "0\n",
      "1\n",
      "2\n",
      "3\n",
      "4\n",
      "5\n",
      "6\n",
      "7\n",
      "8\n",
      "9\n",
      "10\n",
      "11\n",
      "12\n",
      "13\n",
      "14\n",
      "15\n"
     ]
    },
    {
     "name": "stderr",
     "output_type": "stream",
     "text": [
      "Device set to use cuda:0\n"
     ]
    },
    {
     "name": "stdout",
     "output_type": "stream",
     "text": [
      "pipeline#16\n"
     ]
    },
    {
     "name": "stderr",
     "output_type": "stream",
     "text": [
      "100%|██████████| 9815/9815 [03:56<00:00, 41.46it/s]\n"
     ]
    },
    {
     "name": "stdout",
     "output_type": "stream",
     "text": [
      "results#16\n",
      "max_layer#18\n"
     ]
    },
    {
     "name": "stderr",
     "output_type": "stream",
     "text": [
      "Some weights of the model checkpoint at google-bert/bert-large-uncased-whole-word-masking were not used when initializing BertForMaskedLM: ['bert.pooler.dense.bias', 'bert.pooler.dense.weight', 'cls.seq_relationship.bias', 'cls.seq_relationship.weight']\n",
      "- This IS expected if you are initializing BertForMaskedLM from the checkpoint of a model trained on another task or with another architecture (e.g. initializing a BertForSequenceClassification model from a BertForPreTraining model).\n",
      "- This IS NOT expected if you are initializing BertForMaskedLM from the checkpoint of a model that you expect to be exactly identical (initializing a BertForSequenceClassification model from a BertForSequenceClassification model).\n"
     ]
    },
    {
     "name": "stdout",
     "output_type": "stream",
     "text": [
      "0\n",
      "1\n",
      "2\n",
      "3\n",
      "4\n",
      "5\n",
      "6\n",
      "7\n",
      "8\n",
      "9\n",
      "10\n",
      "11\n",
      "12\n",
      "13\n",
      "14\n",
      "15\n",
      "16\n",
      "17\n"
     ]
    },
    {
     "name": "stderr",
     "output_type": "stream",
     "text": [
      "Device set to use cuda:0\n"
     ]
    },
    {
     "name": "stdout",
     "output_type": "stream",
     "text": [
      "pipeline#18\n"
     ]
    },
    {
     "name": "stderr",
     "output_type": "stream",
     "text": [
      "100%|██████████| 9815/9815 [04:02<00:00, 40.42it/s]\n"
     ]
    },
    {
     "name": "stdout",
     "output_type": "stream",
     "text": [
      "results#18\n",
      "max_layer#20\n"
     ]
    },
    {
     "name": "stderr",
     "output_type": "stream",
     "text": [
      "Some weights of the model checkpoint at google-bert/bert-large-uncased-whole-word-masking were not used when initializing BertForMaskedLM: ['bert.pooler.dense.bias', 'bert.pooler.dense.weight', 'cls.seq_relationship.bias', 'cls.seq_relationship.weight']\n",
      "- This IS expected if you are initializing BertForMaskedLM from the checkpoint of a model trained on another task or with another architecture (e.g. initializing a BertForSequenceClassification model from a BertForPreTraining model).\n",
      "- This IS NOT expected if you are initializing BertForMaskedLM from the checkpoint of a model that you expect to be exactly identical (initializing a BertForSequenceClassification model from a BertForSequenceClassification model).\n"
     ]
    },
    {
     "name": "stdout",
     "output_type": "stream",
     "text": [
      "0\n",
      "1\n",
      "2\n",
      "3\n",
      "4\n",
      "5\n",
      "6\n",
      "7\n",
      "8\n",
      "9\n",
      "10\n",
      "11\n",
      "12\n",
      "13\n",
      "14\n",
      "15\n",
      "16\n",
      "17\n",
      "18\n",
      "19\n"
     ]
    },
    {
     "name": "stderr",
     "output_type": "stream",
     "text": [
      "Device set to use cuda:0\n"
     ]
    },
    {
     "name": "stdout",
     "output_type": "stream",
     "text": [
      "pipeline#20\n"
     ]
    },
    {
     "name": "stderr",
     "output_type": "stream",
     "text": [
      "100%|██████████| 9815/9815 [04:14<00:00, 38.56it/s]\n"
     ]
    },
    {
     "name": "stdout",
     "output_type": "stream",
     "text": [
      "results#20\n",
      "max_layer#22\n"
     ]
    },
    {
     "name": "stderr",
     "output_type": "stream",
     "text": [
      "Some weights of the model checkpoint at google-bert/bert-large-uncased-whole-word-masking were not used when initializing BertForMaskedLM: ['bert.pooler.dense.bias', 'bert.pooler.dense.weight', 'cls.seq_relationship.bias', 'cls.seq_relationship.weight']\n",
      "- This IS expected if you are initializing BertForMaskedLM from the checkpoint of a model trained on another task or with another architecture (e.g. initializing a BertForSequenceClassification model from a BertForPreTraining model).\n",
      "- This IS NOT expected if you are initializing BertForMaskedLM from the checkpoint of a model that you expect to be exactly identical (initializing a BertForSequenceClassification model from a BertForSequenceClassification model).\n"
     ]
    },
    {
     "name": "stdout",
     "output_type": "stream",
     "text": [
      "0\n",
      "1\n",
      "2\n",
      "3\n",
      "4\n",
      "5\n",
      "6\n",
      "7\n",
      "8\n",
      "9\n",
      "10\n",
      "11\n",
      "12\n",
      "13\n",
      "14\n",
      "15\n",
      "16\n",
      "17\n",
      "18\n",
      "19\n",
      "20\n",
      "21\n"
     ]
    },
    {
     "name": "stderr",
     "output_type": "stream",
     "text": [
      "Device set to use cuda:0\n"
     ]
    },
    {
     "name": "stdout",
     "output_type": "stream",
     "text": [
      "pipeline#22\n"
     ]
    },
    {
     "name": "stderr",
     "output_type": "stream",
     "text": [
      "100%|██████████| 9815/9815 [04:17<00:00, 38.05it/s]\n"
     ]
    },
    {
     "name": "stdout",
     "output_type": "stream",
     "text": [
      "results#22\n",
      "max_layer#24\n"
     ]
    },
    {
     "name": "stderr",
     "output_type": "stream",
     "text": [
      "Some weights of the model checkpoint at google-bert/bert-large-uncased-whole-word-masking were not used when initializing BertForMaskedLM: ['bert.pooler.dense.bias', 'bert.pooler.dense.weight', 'cls.seq_relationship.bias', 'cls.seq_relationship.weight']\n",
      "- This IS expected if you are initializing BertForMaskedLM from the checkpoint of a model trained on another task or with another architecture (e.g. initializing a BertForSequenceClassification model from a BertForPreTraining model).\n",
      "- This IS NOT expected if you are initializing BertForMaskedLM from the checkpoint of a model that you expect to be exactly identical (initializing a BertForSequenceClassification model from a BertForSequenceClassification model).\n"
     ]
    },
    {
     "name": "stdout",
     "output_type": "stream",
     "text": [
      "0\n",
      "1\n",
      "2\n",
      "3\n",
      "4\n",
      "5\n",
      "6\n",
      "7\n",
      "8\n",
      "9\n",
      "10\n",
      "11\n",
      "12\n",
      "13\n",
      "14\n",
      "15\n",
      "16\n",
      "17\n",
      "18\n",
      "19\n",
      "20\n",
      "21\n",
      "22\n",
      "23\n"
     ]
    },
    {
     "name": "stderr",
     "output_type": "stream",
     "text": [
      "Device set to use cuda:0\n"
     ]
    },
    {
     "name": "stdout",
     "output_type": "stream",
     "text": [
      "pipeline#24\n"
     ]
    },
    {
     "name": "stderr",
     "output_type": "stream",
     "text": [
      "100%|██████████| 9815/9815 [04:09<00:00, 39.26it/s]"
     ]
    },
    {
     "name": "stdout",
     "output_type": "stream",
     "text": [
      "results#24\n"
     ]
    },
    {
     "name": "stderr",
     "output_type": "stream",
     "text": [
      "\n"
     ]
    }
   ],
   "source": [
    "for max_layer in range(10, 25, 2):\n",
    "    print(f'max_layer#{max_layer}')\n",
    "    device = torch.device('cuda:0')\n",
    "    model = GetOriginalModel()\n",
    "    modified_model = MakeModifiedModel(model, max_rank, max_layer, all_layers, device)\n",
    "    pipe_modified = pipeline(\n",
    "        \"fill-mask\",\n",
    "        model=modified_model,\n",
    "        tokenizer=tokenizer,\n",
    "        device=device\n",
    "    )\n",
    "\n",
    "    print(f'pipeline#{max_layer}')\n",
    "    results = evaluate_piped_mask_filling(pipe_modified, dataset, device)\n",
    "    print(f'results#{max_layer}')\n",
    "    with open(f'bert-accuracy-scores/truncated-model-256-{max_layer}.json', 'w') as file:\n",
    "        json.dump(results, file, indent=4)"
   ]
  },
  {
   "cell_type": "code",
   "execution_count": 11,
   "id": "8465bab1",
   "metadata": {},
   "outputs": [
    {
     "name": "stdout",
     "output_type": "stream",
     "text": [
      "max_layer#24\n"
     ]
    },
    {
     "name": "stderr",
     "output_type": "stream",
     "text": [
      "Some weights of the model checkpoint at google-bert/bert-large-uncased-whole-word-masking were not used when initializing BertForMaskedLM: ['bert.pooler.dense.bias', 'bert.pooler.dense.weight', 'cls.seq_relationship.bias', 'cls.seq_relationship.weight']\n",
      "- This IS expected if you are initializing BertForMaskedLM from the checkpoint of a model trained on another task or with another architecture (e.g. initializing a BertForSequenceClassification model from a BertForPreTraining model).\n",
      "- This IS NOT expected if you are initializing BertForMaskedLM from the checkpoint of a model that you expect to be exactly identical (initializing a BertForSequenceClassification model from a BertForSequenceClassification model).\n"
     ]
    },
    {
     "name": "stdout",
     "output_type": "stream",
     "text": [
      "0\n"
     ]
    },
    {
     "ename": "KeyboardInterrupt",
     "evalue": "",
     "output_type": "error",
     "traceback": [
      "\u001b[31m---------------------------------------------------------------------------\u001b[39m",
      "\u001b[31mKeyboardInterrupt\u001b[39m                         Traceback (most recent call last)",
      "\u001b[36mCell\u001b[39m\u001b[36m \u001b[39m\u001b[32mIn[11]\u001b[39m\u001b[32m, line 9\u001b[39m\n\u001b[32m      7\u001b[39m device = torch.device(\u001b[33m'\u001b[39m\u001b[33mcuda:0\u001b[39m\u001b[33m'\u001b[39m)\n\u001b[32m      8\u001b[39m model = GetOriginalModel()\n\u001b[32m----> \u001b[39m\u001b[32m9\u001b[39m modified_model = \u001b[43mMakeModifiedModel\u001b[49m\u001b[43m(\u001b[49m\u001b[43mmodel\u001b[49m\u001b[43m,\u001b[49m\u001b[43m \u001b[49m\u001b[43mmax_rank\u001b[49m\u001b[43m,\u001b[49m\u001b[43m \u001b[49m\u001b[43mmax_layer\u001b[49m\u001b[43m,\u001b[49m\u001b[43m \u001b[49m\u001b[43mall_layers\u001b[49m\u001b[43m,\u001b[49m\u001b[43m \u001b[49m\u001b[43mdevice\u001b[49m\u001b[43m)\u001b[49m\n\u001b[32m     10\u001b[39m pipe_modified = pipeline(\n\u001b[32m     11\u001b[39m     \u001b[33m\"\u001b[39m\u001b[33mfill-mask\u001b[39m\u001b[33m\"\u001b[39m,\n\u001b[32m     12\u001b[39m     model=modified_model,\n\u001b[32m     13\u001b[39m     tokenizer=tokenizer,\n\u001b[32m     14\u001b[39m     device=device\n\u001b[32m     15\u001b[39m )\n\u001b[32m     17\u001b[39m \u001b[38;5;28mprint\u001b[39m(\u001b[33mf\u001b[39m\u001b[33m'\u001b[39m\u001b[33mpipeline#\u001b[39m\u001b[38;5;132;01m{\u001b[39;00mmax_layer\u001b[38;5;132;01m}\u001b[39;00m\u001b[33m'\u001b[39m)\n",
      "\u001b[36mCell\u001b[39m\u001b[36m \u001b[39m\u001b[32mIn[9]\u001b[39m\u001b[32m, line 10\u001b[39m, in \u001b[36mMakeModifiedModel\u001b[39m\u001b[34m(model, max_rank, max_layer, all_layers, device)\u001b[39m\n\u001b[32m      8\u001b[39m \u001b[38;5;28;01mfor\u001b[39;00m i \u001b[38;5;129;01min\u001b[39;00m \u001b[38;5;28mrange\u001b[39m(\u001b[38;5;28mmin\u001b[39m(max_layer, all_layers)):\n\u001b[32m      9\u001b[39m     \u001b[38;5;28mprint\u001b[39m(i)\n\u001b[32m---> \u001b[39m\u001b[32m10\u001b[39m     model.bert.encoder.layer[i].attention.self.query = \u001b[43mTruncatedSVDLinear\u001b[49m\u001b[43m(\u001b[49m\n\u001b[32m     11\u001b[39m \u001b[43m        \u001b[49m\u001b[43mrank\u001b[49m\u001b[43m=\u001b[49m\u001b[43mmax_rank\u001b[49m\u001b[43m,\u001b[49m\n\u001b[32m     12\u001b[39m \u001b[43m        \u001b[49m\u001b[43mweight\u001b[49m\u001b[43m=\u001b[49m\u001b[43mmodel\u001b[49m\u001b[43m.\u001b[49m\u001b[43mbert\u001b[49m\u001b[43m.\u001b[49m\u001b[43mencoder\u001b[49m\u001b[43m.\u001b[49m\u001b[43mlayer\u001b[49m\u001b[43m[\u001b[49m\u001b[43mi\u001b[49m\u001b[43m]\u001b[49m\u001b[43m.\u001b[49m\u001b[43mattention\u001b[49m\u001b[43m.\u001b[49m\u001b[43mself\u001b[49m\u001b[43m.\u001b[49m\u001b[43mquery\u001b[49m\u001b[43m.\u001b[49m\u001b[43mweight\u001b[49m\u001b[43m.\u001b[49m\u001b[43mdetach\u001b[49m\u001b[43m(\u001b[49m\u001b[43m)\u001b[49m\u001b[43m,\u001b[49m\n\u001b[32m     13\u001b[39m \u001b[43m        \u001b[49m\u001b[43mbias\u001b[49m\u001b[43m=\u001b[49m\u001b[43mmodel\u001b[49m\u001b[43m.\u001b[49m\u001b[43mbert\u001b[49m\u001b[43m.\u001b[49m\u001b[43mencoder\u001b[49m\u001b[43m.\u001b[49m\u001b[43mlayer\u001b[49m\u001b[43m[\u001b[49m\u001b[43mi\u001b[49m\u001b[43m]\u001b[49m\u001b[43m.\u001b[49m\u001b[43mattention\u001b[49m\u001b[43m.\u001b[49m\u001b[43mself\u001b[49m\u001b[43m.\u001b[49m\u001b[43mquery\u001b[49m\u001b[43m.\u001b[49m\u001b[43mbias\u001b[49m\u001b[43m.\u001b[49m\u001b[43mdetach\u001b[49m\u001b[43m(\u001b[49m\u001b[43m)\u001b[49m\u001b[43m,\u001b[49m\n\u001b[32m     14\u001b[39m \u001b[43m        \u001b[49m\u001b[43mdevice\u001b[49m\u001b[43m=\u001b[49m\u001b[43mdevice\u001b[49m\n\u001b[32m     15\u001b[39m \u001b[43m    \u001b[49m\u001b[43m)\u001b[49m\n\u001b[32m     16\u001b[39m     model.bert.encoder.layer[i].attention.self.key = TruncatedSVDLinear(\n\u001b[32m     17\u001b[39m         rank=max_rank,\n\u001b[32m     18\u001b[39m         weight=model.bert.encoder.layer[i].attention.self.key.weight.detach(),\n\u001b[32m     19\u001b[39m         bias=model.bert.encoder.layer[i].attention.self.key.bias.detach(),\n\u001b[32m     20\u001b[39m         device=device\n\u001b[32m     21\u001b[39m     )\n\u001b[32m     22\u001b[39m     model.bert.encoder.layer[i].attention.self.value = TruncatedSVDLinear(\n\u001b[32m     23\u001b[39m         rank=max_rank,\n\u001b[32m     24\u001b[39m         weight=model.bert.encoder.layer[i].attention.self.value.weight.detach(),\n\u001b[32m     25\u001b[39m         bias=model.bert.encoder.layer[i].attention.self.value.bias.detach(),\n\u001b[32m     26\u001b[39m         device=device\n\u001b[32m     27\u001b[39m     )\n",
      "\u001b[36mCell\u001b[39m\u001b[36m \u001b[39m\u001b[32mIn[8]\u001b[39m\u001b[32m, line 4\u001b[39m, in \u001b[36mTruncatedSVDLinear.__init__\u001b[39m\u001b[34m(self, rank, weight, bias, device)\u001b[39m\n\u001b[32m      2\u001b[39m \u001b[38;5;28;01mdef\u001b[39;00m\u001b[38;5;250m \u001b[39m\u001b[34m__init__\u001b[39m(\u001b[38;5;28mself\u001b[39m, rank: \u001b[38;5;28mint\u001b[39m, weight: torch.Tensor, bias: torch.Tensor, device: torch.device = torch.device(\u001b[33m'\u001b[39m\u001b[33mcpu\u001b[39m\u001b[33m'\u001b[39m)):\n\u001b[32m      3\u001b[39m     \u001b[38;5;28msuper\u001b[39m().\u001b[34m__init__\u001b[39m()\n\u001b[32m----> \u001b[39m\u001b[32m4\u001b[39m     U, Sigma, V = \u001b[43mtorch\u001b[49m\u001b[43m.\u001b[49m\u001b[43mlinalg\u001b[49m\u001b[43m.\u001b[49m\u001b[43msvd\u001b[49m\u001b[43m(\u001b[49m\u001b[43mweight\u001b[49m\u001b[43m,\u001b[49m\u001b[43m \u001b[49m\u001b[43mfull_matrices\u001b[49m\u001b[43m=\u001b[49m\u001b[38;5;28;43;01mFalse\u001b[39;49;00m\u001b[43m)\u001b[49m\n\u001b[32m      5\u001b[39m     max_rank = \u001b[38;5;28mlen\u001b[39m(Sigma)\n\u001b[32m      6\u001b[39m     SigmaDiag = torch.diag(Sigma[:\u001b[38;5;28mmin\u001b[39m(rank, max_rank)])\n",
      "\u001b[31mKeyboardInterrupt\u001b[39m: "
     ]
    }
   ],
   "source": [
    "max_rank = 128\n",
    "NUM_ATTENTION_LAYERS = 24\n",
    "all_layers = NUM_ATTENTION_LAYERS\n",
    "\n",
    "for max_layer in range(24, 25, 2):\n",
    "    print(f'max_layer#{max_layer}')\n",
    "    device = torch.device('cuda:0')\n",
    "    model = GetOriginalModel()\n",
    "    modified_model = MakeModifiedModel(model, max_rank, max_layer, all_layers, device)\n",
    "    pipe_modified = pipeline(\n",
    "        \"fill-mask\",\n",
    "        model=modified_model,\n",
    "        tokenizer=tokenizer,\n",
    "        device=device\n",
    "    )\n",
    "\n",
    "    print(f'pipeline#{max_layer}')\n",
    "    results = evaluate_piped_mask_filling(pipe_modified, dataset, device)\n",
    "    print(f'results#{max_layer}')\n",
    "    with open(f'bert-accuracy-scores/truncated-model-128-{max_layer}.json', 'w') as file:\n",
    "        json.dump(results, file, indent=4)"
   ]
  },
  {
   "cell_type": "code",
   "execution_count": 12,
   "id": "1159388e",
   "metadata": {},
   "outputs": [
    {
     "name": "stderr",
     "output_type": "stream",
     "text": [
      "Some weights of the model checkpoint at google-bert/bert-large-uncased-whole-word-masking were not used when initializing BertForMaskedLM: ['bert.pooler.dense.bias', 'bert.pooler.dense.weight', 'cls.seq_relationship.bias', 'cls.seq_relationship.weight']\n",
      "- This IS expected if you are initializing BertForMaskedLM from the checkpoint of a model trained on another task or with another architecture (e.g. initializing a BertForSequenceClassification model from a BertForPreTraining model).\n",
      "- This IS NOT expected if you are initializing BertForMaskedLM from the checkpoint of a model that you expect to be exactly identical (initializing a BertForSequenceClassification model from a BertForSequenceClassification model).\n"
     ]
    },
    {
     "data": {
      "text/plain": [
       "BertForMaskedLM(\n",
       "  (bert): BertModel(\n",
       "    (embeddings): BertEmbeddings(\n",
       "      (word_embeddings): Embedding(30522, 1024, padding_idx=0)\n",
       "      (position_embeddings): Embedding(512, 1024)\n",
       "      (token_type_embeddings): Embedding(2, 1024)\n",
       "      (LayerNorm): LayerNorm((1024,), eps=1e-12, elementwise_affine=True)\n",
       "      (dropout): Dropout(p=0.1, inplace=False)\n",
       "    )\n",
       "    (encoder): BertEncoder(\n",
       "      (layer): ModuleList(\n",
       "        (0-23): 24 x BertLayer(\n",
       "          (attention): BertAttention(\n",
       "            (self): BertSdpaSelfAttention(\n",
       "              (query): Linear(in_features=1024, out_features=1024, bias=True)\n",
       "              (key): Linear(in_features=1024, out_features=1024, bias=True)\n",
       "              (value): Linear(in_features=1024, out_features=1024, bias=True)\n",
       "              (dropout): Dropout(p=0.1, inplace=False)\n",
       "            )\n",
       "            (output): BertSelfOutput(\n",
       "              (dense): Linear(in_features=1024, out_features=1024, bias=True)\n",
       "              (LayerNorm): LayerNorm((1024,), eps=1e-12, elementwise_affine=True)\n",
       "              (dropout): Dropout(p=0.1, inplace=False)\n",
       "            )\n",
       "          )\n",
       "          (intermediate): BertIntermediate(\n",
       "            (dense): Linear(in_features=1024, out_features=4096, bias=True)\n",
       "            (intermediate_act_fn): GELUActivation()\n",
       "          )\n",
       "          (output): BertOutput(\n",
       "            (dense): Linear(in_features=4096, out_features=1024, bias=True)\n",
       "            (LayerNorm): LayerNorm((1024,), eps=1e-12, elementwise_affine=True)\n",
       "            (dropout): Dropout(p=0.1, inplace=False)\n",
       "          )\n",
       "        )\n",
       "      )\n",
       "    )\n",
       "  )\n",
       "  (cls): BertOnlyMLMHead(\n",
       "    (predictions): BertLMPredictionHead(\n",
       "      (transform): BertPredictionHeadTransform(\n",
       "        (dense): Linear(in_features=1024, out_features=1024, bias=True)\n",
       "        (transform_act_fn): GELUActivation()\n",
       "        (LayerNorm): LayerNorm((1024,), eps=1e-12, elementwise_affine=True)\n",
       "      )\n",
       "      (decoder): Linear(in_features=1024, out_features=30522, bias=True)\n",
       "    )\n",
       "  )\n",
       ")"
      ]
     },
     "execution_count": 12,
     "metadata": {},
     "output_type": "execute_result"
    }
   ],
   "source": [
    "model = GetOriginalModel()\n",
    "model.eval()"
   ]
  },
  {
   "cell_type": "code",
   "execution_count": 13,
   "id": "4ae433e4",
   "metadata": {},
   "outputs": [
    {
     "name": "stdout",
     "output_type": "stream",
     "text": [
      "well the first thing for me is i wonder i see a couple of different ways of talking about what privacy is um if privacy is something that disturb ##s your private state i mean an invasion of privacy is something that disturb ##s your private state that ' s one thing and if privacy is something that comes into your private state and extracts information from it in other words finds something out about you that ' s another and the first kind of invasion of the first type of privacy seems invaded to me in very much everyday in this country but in the second type at least over ##tly uh where someone comes in and uh finds out information about you that should be private\n",
      "yeah because you look at the statistics now and i ' m sure it ' s in your your newspapers just like it is in ours that every major city now the increase of crime is is es ##cala ##ting i mean there are more look at the look at the people there are being shot now i mean every day there ' s there ' s dozens of dozens of people across the nation they just get blown away for no reason you know stray bullets or california they were going out there and they were shooting and they get these guys and they don ' t do anything with them so i kind of i kind of agree with you i ' m kind of you\n",
      "well the first thing for me is i wonder i see a couple of different ways of talking about what privacy is um if privacy is something that disturb ##s your private state i mean an invasion of privacy is something that disturb ##s your private state that ' s one thing and if privacy is something that comes into your private state and extracts information from it in other words finds something out about you that ' s another and the first kind of invasion of the first type of privacy seems invaded to me in very much everyday in this country but in the second type at least over ##tly uh where someone comes in and uh finds out information about you that should be private\n",
      "yeah because you look at the statistics now and i ' m sure it ' s in your your newspapers just like it is in ours that every major city now the increase of crime is is es ##cala ##ting i mean there are more look at the look at the people there are being shot now i mean every day there ' s there ' s dozens of dozens of people across the nation they just get blown away for no reason you know stray bullets or california they were going out there and they were shooting and they get these guys and they don ' t do anything with them so i kind of i kind of agree with you i ' m kind of you\n",
      "i know that you know the further we go from adam the worse the food is for you but god still somehow makes us all be able to still live i think it ' s a miracle we ' re all still alive after so many generations well the last couple of processed foods you know i mean but i don ' t know i like to i like to my i like to be able to eat really healthy you know what am saying and i guess i ' m going to have to wait for the millennium i think though because i do don ' t think we ' re going to restore the earth to you know i think jesus is the only one that\n",
      "yeah the the i mean people like that are crazy i did a study on it though when i was in high school it was one of these things we had to pick a topic to to investigate and at that time i don ' t think it ' s like that any more but at that time uh it was very unfair capital punishment was a lot more common and if you tended and it tended to be that if you were ignorant or if you were a foreigner or if you were black or any minority for that matter the chances your chances of of uh getting the death penalty were you know like hundreds of times greater than if you could just communicate well i\n",
      "yeah the the i mean people like that are crazy i did a study on it though when i was in high school it was one of these things we had to pick a topic to to investigate and at that time i don ' t think it ' s like that any more but at that time uh it was very unfair capital punishment was a lot more common and if you tended and it tended to be that if you were ignorant or if you were a foreigner or if you were black or any minority for that matter the chances your chances of of uh getting the death penalty were you know like hundreds of times greater than if you could just communicate well i\n",
      "yes they would they just wouldn ' t be able to own the kind of automobiles that they think they deserve to own or the kind of homes that we think we deserve to own we might have to you know just be able to i think if we a generation went without debt then the next generation like if if our our generation my husband and i we ' re twenty eight if we lived our lives and didn ' t become you know ind ##eb ##ted like you know our generation before us that um the budget would balance and that we became accustomed to living with what we could afford which we wouldn ' t be des ##ti ##tute i mean we wouldn ' t\n",
      "i know that you know the further we go from adam the worse the food is for you but god still somehow makes us all be able to still live i think it ' s a miracle we ' re all still alive after so many generations well the last couple of processed foods you know i mean but i don ' t know i like to i like to my i like to be able to eat really healthy you know what am saying and i guess i ' m going to have to wait for the millennium i think though because i do don ' t think we ' re going to restore the earth to you know i think jesus is the only one that\n",
      "well the first thing for me is i wonder i see a couple of different ways of talking about what privacy is um if privacy is something that disturb ##s your private state i mean an invasion of privacy is something that disturb ##s your private state that ' s one thing and if privacy is something that comes into your private state and extracts information from it in other words finds something out about you that ' s another and the first kind of invasion of the first type of privacy seems invaded to me in very much everyday in this country but in the second type at least over ##tly uh where someone comes in and uh finds out information about you that should be private\n"
     ]
    }
   ],
   "source": [
    "attention_layers_preactivations = dict()\n",
    "\n",
    "def make_forward_pre_hook(module_str: str):\n",
    "    def forward_pre_hook(module: torch.nn.Module, input):\n",
    "        x = input[0]\n",
    "        if module_str not in attention_layers_preactivations:\n",
    "            attention_layers_preactivations[module_str] = []\n",
    "\n",
    "        attention_layers_preactivations[module_str].append(x.detach().clone().cpu())\n",
    "\n",
    "    return forward_pre_hook\n",
    "\n",
    "def make_tokenization(text):\n",
    "    return tokenizer.tokenize(text)\n",
    "\n",
    "handlers = []\n",
    "\n",
    "for i in range(NUM_ATTENTION_LAYERS):\n",
    "    handler = model.bert.encoder.layer[i].attention.self.query.register_forward_pre_hook(\n",
    "        make_forward_pre_hook(f'{i}/query')\n",
    "    )\n",
    "    handlers.append(handler)\n",
    "    handler = model.bert.encoder.layer[i].attention.self.value.register_forward_pre_hook(\n",
    "        make_forward_pre_hook(f'{i}/value')\n",
    "    )\n",
    "    handlers.append(handler)\n",
    "    handler = model.bert.encoder.layer[i].attention.self.key.register_forward_pre_hook(\n",
    "        make_forward_pre_hook(f'{i}/key')\n",
    "    )\n",
    "    handlers.append(handler)\n",
    "\n",
    "\n",
    "samples_count = 0\n",
    "device = torch.device('cuda:0')\n",
    "\n",
    "for example in dataset:\n",
    "    text = example['premise'].strip()\n",
    "    text_tokens = make_tokenization(text)\n",
    "\n",
    "    if len(text_tokens) >= 128:\n",
    "        text_tokens = text_tokens[:128]\n",
    "        samples_count += 1\n",
    "        shrinked_text = ' '.join(text_tokens)\n",
    "        print(shrinked_text)\n",
    "\n",
    "        output_tokens = tokenizer(shrinked_text, return_tensors=\"pt\")\n",
    "\n",
    "        model(**output_tokens)\n",
    "\n",
    "        if samples_count == 10:\n",
    "            break"
   ]
  },
  {
   "cell_type": "code",
   "execution_count": 14,
   "id": "2a3f867b",
   "metadata": {},
   "outputs": [],
   "source": [
    "for handler in handlers:\n",
    "    handler.remove()"
   ]
  },
  {
   "cell_type": "code",
   "execution_count": 15,
   "id": "e0d4cb2b",
   "metadata": {},
   "outputs": [],
   "source": [
    "attention_layers_preactivations_concat = dict()\n",
    "\n",
    "for layer_num in range(NUM_ATTENTION_LAYERS):\n",
    "    for layer_type in ['key', 'value', 'query']:\n",
    "        attention_layers_preactivations_concat[f'{layer_num}/{layer_type}'] = torch.concat(\n",
    "            attention_layers_preactivations[f'{layer_num}/{layer_type}'],\n",
    "            dim=1\n",
    "        ).transpose(2, 0).squeeze()\n"
   ]
  },
  {
   "cell_type": "code",
   "execution_count": 24,
   "id": "f52b63f6",
   "metadata": {},
   "outputs": [],
   "source": [
    "class TruncatedAdaptiveSVDLinear(nn.Module):\n",
    "    def __init__(self, rank: int, weight: torch.Tensor, bias: torch.Tensor,\n",
    "                 precondtioner: torch.Tensor, inv_preconditioner: torch.Tensor,\n",
    "                 device: torch.device = torch.device('cpu')):\n",
    "        super().__init__()\n",
    "        U, Sigma, V = torch.linalg.svd(weight @ precondtioner, full_matrices=False)\n",
    "        max_rank = len(Sigma)\n",
    "        SigmaDiag = torch.diag(Sigma[:min(rank, max_rank)])\n",
    "        U = U[:, :min(rank, max_rank)] @ SigmaDiag\n",
    "        V = V[:min(rank, max_rank), :] @ inv_preconditioner\n",
    "\n",
    "        self.U = nn.Linear(in_features=min(rank, max_rank), out_features=weight.shape[0], bias=True)\n",
    "        self.V = nn.Linear(in_features=weight.shape[1], out_features=min(rank, max_rank), bias=False)\n",
    "        self.U.weight.data.copy_(U)\n",
    "        self.U.bias.data.copy_(bias)\n",
    "        self.V.weight.data.copy_(V)\n",
    "        self.U = self.U.to(device)\n",
    "        self.V = self.V.to(device)\n",
    "\n",
    "    def forward(self, input):\n",
    "        return self.U(self.V(input))\n",
    "\n",
    "    def __repr__(self):\n",
    "        return f'(\\n\\t(U): {self.U.__repr__()}\\n\\t(V): {self.V.__repr__()}\\n)'"
   ]
  },
  {
   "cell_type": "code",
   "execution_count": 25,
   "id": "9538ba49",
   "metadata": {},
   "outputs": [],
   "source": [
    "def MakeModifiedAdaptiveModel(\n",
    "    model: nn.Module,\n",
    "    max_rank: int,\n",
    "    max_layer: int,\n",
    "    all_layers: int,\n",
    "    device: torch.device = torch.device('cpu'),\n",
    ") -> nn.Module:\n",
    "    for i in range(min(max_layer, all_layers)):\n",
    "        print(i)\n",
    "        activations = torch.mean(torch.abs(attention_layers_preactivations_concat[f'{i}/query']), dim=1)**0.5\n",
    "        model.bert.encoder.layer[i].attention.self.query = TruncatedAdaptiveSVDLinear(\n",
    "            rank=max_rank,\n",
    "            weight=model.bert.encoder.layer[i].attention.self.query.weight.detach(),\n",
    "            bias=model.bert.encoder.layer[i].attention.self.query.bias.detach(),\n",
    "            precondtioner=torch.diag(activations),\n",
    "            inv_preconditioner=torch.diag(1 / activations),\n",
    "            device=device\n",
    "        )\n",
    "\n",
    "        activations = torch.mean(torch.abs(attention_layers_preactivations_concat[f'{i}/key']), dim=1)**0.5\n",
    "        model.bert.encoder.layer[i].attention.self.key = TruncatedAdaptiveSVDLinear(\n",
    "            rank=max_rank,\n",
    "            weight=model.bert.encoder.layer[i].attention.self.key.weight.detach(),\n",
    "            bias=model.bert.encoder.layer[i].attention.self.key.bias.detach(),\n",
    "            precondtioner=torch.diag(activations),\n",
    "            inv_preconditioner=torch.diag(1 / activations),\n",
    "            device=device\n",
    "        )\n",
    "\n",
    "        activations = torch.mean(torch.abs(attention_layers_preactivations_concat[f'{i}/value']), dim=1)**0.5\n",
    "        model.bert.encoder.layer[i].attention.self.value = TruncatedAdaptiveSVDLinear(\n",
    "            rank=max_rank,\n",
    "            weight=model.bert.encoder.layer[i].attention.self.value.weight.detach(),\n",
    "            bias=model.bert.encoder.layer[i].attention.self.value.bias.detach(),\n",
    "            precondtioner=torch.diag(activations),\n",
    "            inv_preconditioner=torch.diag(1 / activations),\n",
    "            device=device\n",
    "        )\n",
    "\n",
    "    return model.to(device)\n",
    "\n",
    "\n",
    "def MakeModifiedAdaptivePipe(max_rank: int, max_layer: int, all_layers: int, device: torch.device) -> pipeline:\n",
    "    pipe_modified = pipeline(\n",
    "        \"fill-mask\",\n",
    "        model=MakeModifiedAdaptiveModel(GetOriginalModel(), max_rank, max_layer, all_layers, device),\n",
    "        tokenizer=tokenizer,\n",
    "        device=device\n",
    "    )\n",
    "    return pipe_modified"
   ]
  },
  {
   "cell_type": "code",
   "execution_count": 26,
   "id": "776185a0",
   "metadata": {},
   "outputs": [
    {
     "name": "stdout",
     "output_type": "stream",
     "text": [
      "max_layer#2\n"
     ]
    },
    {
     "name": "stderr",
     "output_type": "stream",
     "text": [
      "Some weights of the model checkpoint at google-bert/bert-large-uncased-whole-word-masking were not used when initializing BertForMaskedLM: ['bert.pooler.dense.bias', 'bert.pooler.dense.weight', 'cls.seq_relationship.bias', 'cls.seq_relationship.weight']\n",
      "- This IS expected if you are initializing BertForMaskedLM from the checkpoint of a model trained on another task or with another architecture (e.g. initializing a BertForSequenceClassification model from a BertForPreTraining model).\n",
      "- This IS NOT expected if you are initializing BertForMaskedLM from the checkpoint of a model that you expect to be exactly identical (initializing a BertForSequenceClassification model from a BertForSequenceClassification model).\n"
     ]
    },
    {
     "name": "stdout",
     "output_type": "stream",
     "text": [
      "0\n",
      "1\n"
     ]
    },
    {
     "name": "stderr",
     "output_type": "stream",
     "text": [
      "Device set to use cuda:0\n"
     ]
    },
    {
     "name": "stdout",
     "output_type": "stream",
     "text": [
      "pipeline#2\n"
     ]
    },
    {
     "name": "stderr",
     "output_type": "stream",
     "text": [
      "  0%|          | 12/9815 [00:00<10:49, 15.10it/s]You seem to be using the pipelines sequentially on GPU. In order to maximize efficiency please use a dataset\n",
      "100%|██████████| 9815/9815 [06:49<00:00, 23.98it/s]\n"
     ]
    },
    {
     "name": "stdout",
     "output_type": "stream",
     "text": [
      "results#2\n",
      "max_layer#4\n"
     ]
    },
    {
     "name": "stderr",
     "output_type": "stream",
     "text": [
      "Some weights of the model checkpoint at google-bert/bert-large-uncased-whole-word-masking were not used when initializing BertForMaskedLM: ['bert.pooler.dense.bias', 'bert.pooler.dense.weight', 'cls.seq_relationship.bias', 'cls.seq_relationship.weight']\n",
      "- This IS expected if you are initializing BertForMaskedLM from the checkpoint of a model trained on another task or with another architecture (e.g. initializing a BertForSequenceClassification model from a BertForPreTraining model).\n",
      "- This IS NOT expected if you are initializing BertForMaskedLM from the checkpoint of a model that you expect to be exactly identical (initializing a BertForSequenceClassification model from a BertForSequenceClassification model).\n"
     ]
    },
    {
     "name": "stdout",
     "output_type": "stream",
     "text": [
      "0\n",
      "1\n",
      "2\n",
      "3\n"
     ]
    },
    {
     "name": "stderr",
     "output_type": "stream",
     "text": [
      "Device set to use cuda:0\n"
     ]
    },
    {
     "name": "stdout",
     "output_type": "stream",
     "text": [
      "pipeline#4\n"
     ]
    },
    {
     "name": "stderr",
     "output_type": "stream",
     "text": [
      "100%|██████████| 9815/9815 [05:18<00:00, 30.81it/s]\n"
     ]
    },
    {
     "name": "stdout",
     "output_type": "stream",
     "text": [
      "results#4\n",
      "max_layer#6\n"
     ]
    },
    {
     "name": "stderr",
     "output_type": "stream",
     "text": [
      "Some weights of the model checkpoint at google-bert/bert-large-uncased-whole-word-masking were not used when initializing BertForMaskedLM: ['bert.pooler.dense.bias', 'bert.pooler.dense.weight', 'cls.seq_relationship.bias', 'cls.seq_relationship.weight']\n",
      "- This IS expected if you are initializing BertForMaskedLM from the checkpoint of a model trained on another task or with another architecture (e.g. initializing a BertForSequenceClassification model from a BertForPreTraining model).\n",
      "- This IS NOT expected if you are initializing BertForMaskedLM from the checkpoint of a model that you expect to be exactly identical (initializing a BertForSequenceClassification model from a BertForSequenceClassification model).\n"
     ]
    },
    {
     "name": "stdout",
     "output_type": "stream",
     "text": [
      "0\n",
      "1\n",
      "2\n",
      "3\n",
      "4\n",
      "5\n"
     ]
    },
    {
     "name": "stderr",
     "output_type": "stream",
     "text": [
      "Device set to use cuda:0\n"
     ]
    },
    {
     "name": "stdout",
     "output_type": "stream",
     "text": [
      "pipeline#6\n"
     ]
    },
    {
     "name": "stderr",
     "output_type": "stream",
     "text": [
      "100%|██████████| 9815/9815 [05:20<00:00, 30.65it/s]\n"
     ]
    },
    {
     "name": "stdout",
     "output_type": "stream",
     "text": [
      "results#6\n",
      "max_layer#8\n"
     ]
    },
    {
     "name": "stderr",
     "output_type": "stream",
     "text": [
      "Some weights of the model checkpoint at google-bert/bert-large-uncased-whole-word-masking were not used when initializing BertForMaskedLM: ['bert.pooler.dense.bias', 'bert.pooler.dense.weight', 'cls.seq_relationship.bias', 'cls.seq_relationship.weight']\n",
      "- This IS expected if you are initializing BertForMaskedLM from the checkpoint of a model trained on another task or with another architecture (e.g. initializing a BertForSequenceClassification model from a BertForPreTraining model).\n",
      "- This IS NOT expected if you are initializing BertForMaskedLM from the checkpoint of a model that you expect to be exactly identical (initializing a BertForSequenceClassification model from a BertForSequenceClassification model).\n"
     ]
    },
    {
     "name": "stdout",
     "output_type": "stream",
     "text": [
      "0\n",
      "1\n",
      "2\n",
      "3\n",
      "4\n",
      "5\n",
      "6\n",
      "7\n"
     ]
    },
    {
     "name": "stderr",
     "output_type": "stream",
     "text": [
      "Device set to use cuda:0\n"
     ]
    },
    {
     "name": "stdout",
     "output_type": "stream",
     "text": [
      "pipeline#8\n"
     ]
    },
    {
     "name": "stderr",
     "output_type": "stream",
     "text": [
      "100%|██████████| 9815/9815 [05:27<00:00, 29.94it/s]\n"
     ]
    },
    {
     "name": "stdout",
     "output_type": "stream",
     "text": [
      "results#8\n",
      "max_layer#10\n"
     ]
    },
    {
     "name": "stderr",
     "output_type": "stream",
     "text": [
      "Some weights of the model checkpoint at google-bert/bert-large-uncased-whole-word-masking were not used when initializing BertForMaskedLM: ['bert.pooler.dense.bias', 'bert.pooler.dense.weight', 'cls.seq_relationship.bias', 'cls.seq_relationship.weight']\n",
      "- This IS expected if you are initializing BertForMaskedLM from the checkpoint of a model trained on another task or with another architecture (e.g. initializing a BertForSequenceClassification model from a BertForPreTraining model).\n",
      "- This IS NOT expected if you are initializing BertForMaskedLM from the checkpoint of a model that you expect to be exactly identical (initializing a BertForSequenceClassification model from a BertForSequenceClassification model).\n"
     ]
    },
    {
     "name": "stdout",
     "output_type": "stream",
     "text": [
      "0\n",
      "1\n",
      "2\n",
      "3\n",
      "4\n",
      "5\n",
      "6\n",
      "7\n",
      "8\n",
      "9\n"
     ]
    },
    {
     "name": "stderr",
     "output_type": "stream",
     "text": [
      "Device set to use cuda:0\n"
     ]
    },
    {
     "name": "stdout",
     "output_type": "stream",
     "text": [
      "pipeline#10\n"
     ]
    },
    {
     "name": "stderr",
     "output_type": "stream",
     "text": [
      "100%|██████████| 9815/9815 [06:30<00:00, 25.12it/s]\n"
     ]
    },
    {
     "name": "stdout",
     "output_type": "stream",
     "text": [
      "results#10\n",
      "max_layer#12\n"
     ]
    },
    {
     "name": "stderr",
     "output_type": "stream",
     "text": [
      "Some weights of the model checkpoint at google-bert/bert-large-uncased-whole-word-masking were not used when initializing BertForMaskedLM: ['bert.pooler.dense.bias', 'bert.pooler.dense.weight', 'cls.seq_relationship.bias', 'cls.seq_relationship.weight']\n",
      "- This IS expected if you are initializing BertForMaskedLM from the checkpoint of a model trained on another task or with another architecture (e.g. initializing a BertForSequenceClassification model from a BertForPreTraining model).\n",
      "- This IS NOT expected if you are initializing BertForMaskedLM from the checkpoint of a model that you expect to be exactly identical (initializing a BertForSequenceClassification model from a BertForSequenceClassification model).\n"
     ]
    },
    {
     "name": "stdout",
     "output_type": "stream",
     "text": [
      "0\n",
      "1\n",
      "2\n",
      "3\n",
      "4\n",
      "5\n",
      "6\n",
      "7\n",
      "8\n",
      "9\n",
      "10\n",
      "11\n"
     ]
    },
    {
     "name": "stderr",
     "output_type": "stream",
     "text": [
      "Device set to use cuda:0\n"
     ]
    },
    {
     "name": "stdout",
     "output_type": "stream",
     "text": [
      "pipeline#12\n"
     ]
    },
    {
     "name": "stderr",
     "output_type": "stream",
     "text": [
      "100%|██████████| 9815/9815 [05:36<00:00, 29.14it/s]\n"
     ]
    },
    {
     "name": "stdout",
     "output_type": "stream",
     "text": [
      "results#12\n",
      "max_layer#14\n"
     ]
    },
    {
     "name": "stderr",
     "output_type": "stream",
     "text": [
      "Some weights of the model checkpoint at google-bert/bert-large-uncased-whole-word-masking were not used when initializing BertForMaskedLM: ['bert.pooler.dense.bias', 'bert.pooler.dense.weight', 'cls.seq_relationship.bias', 'cls.seq_relationship.weight']\n",
      "- This IS expected if you are initializing BertForMaskedLM from the checkpoint of a model trained on another task or with another architecture (e.g. initializing a BertForSequenceClassification model from a BertForPreTraining model).\n",
      "- This IS NOT expected if you are initializing BertForMaskedLM from the checkpoint of a model that you expect to be exactly identical (initializing a BertForSequenceClassification model from a BertForSequenceClassification model).\n"
     ]
    },
    {
     "name": "stdout",
     "output_type": "stream",
     "text": [
      "0\n",
      "1\n",
      "2\n",
      "3\n",
      "4\n",
      "5\n",
      "6\n",
      "7\n",
      "8\n",
      "9\n",
      "10\n",
      "11\n",
      "12\n",
      "13\n"
     ]
    },
    {
     "name": "stderr",
     "output_type": "stream",
     "text": [
      "Device set to use cuda:0\n"
     ]
    },
    {
     "name": "stdout",
     "output_type": "stream",
     "text": [
      "pipeline#14\n"
     ]
    },
    {
     "name": "stderr",
     "output_type": "stream",
     "text": [
      "100%|██████████| 9815/9815 [05:19<00:00, 30.70it/s]\n"
     ]
    },
    {
     "name": "stdout",
     "output_type": "stream",
     "text": [
      "results#14\n",
      "max_layer#16\n"
     ]
    },
    {
     "name": "stderr",
     "output_type": "stream",
     "text": [
      "Some weights of the model checkpoint at google-bert/bert-large-uncased-whole-word-masking were not used when initializing BertForMaskedLM: ['bert.pooler.dense.bias', 'bert.pooler.dense.weight', 'cls.seq_relationship.bias', 'cls.seq_relationship.weight']\n",
      "- This IS expected if you are initializing BertForMaskedLM from the checkpoint of a model trained on another task or with another architecture (e.g. initializing a BertForSequenceClassification model from a BertForPreTraining model).\n",
      "- This IS NOT expected if you are initializing BertForMaskedLM from the checkpoint of a model that you expect to be exactly identical (initializing a BertForSequenceClassification model from a BertForSequenceClassification model).\n"
     ]
    },
    {
     "name": "stdout",
     "output_type": "stream",
     "text": [
      "0\n",
      "1\n",
      "2\n",
      "3\n",
      "4\n",
      "5\n",
      "6\n",
      "7\n",
      "8\n",
      "9\n",
      "10\n",
      "11\n",
      "12\n",
      "13\n",
      "14\n",
      "15\n"
     ]
    },
    {
     "name": "stderr",
     "output_type": "stream",
     "text": [
      "Device set to use cuda:0\n"
     ]
    },
    {
     "name": "stdout",
     "output_type": "stream",
     "text": [
      "pipeline#16\n"
     ]
    },
    {
     "name": "stderr",
     "output_type": "stream",
     "text": [
      "100%|██████████| 9815/9815 [05:29<00:00, 29.83it/s]\n"
     ]
    },
    {
     "name": "stdout",
     "output_type": "stream",
     "text": [
      "results#16\n",
      "max_layer#18\n"
     ]
    },
    {
     "name": "stderr",
     "output_type": "stream",
     "text": [
      "Some weights of the model checkpoint at google-bert/bert-large-uncased-whole-word-masking were not used when initializing BertForMaskedLM: ['bert.pooler.dense.bias', 'bert.pooler.dense.weight', 'cls.seq_relationship.bias', 'cls.seq_relationship.weight']\n",
      "- This IS expected if you are initializing BertForMaskedLM from the checkpoint of a model trained on another task or with another architecture (e.g. initializing a BertForSequenceClassification model from a BertForPreTraining model).\n",
      "- This IS NOT expected if you are initializing BertForMaskedLM from the checkpoint of a model that you expect to be exactly identical (initializing a BertForSequenceClassification model from a BertForSequenceClassification model).\n"
     ]
    },
    {
     "name": "stdout",
     "output_type": "stream",
     "text": [
      "0\n",
      "1\n",
      "2\n",
      "3\n",
      "4\n",
      "5\n",
      "6\n",
      "7\n",
      "8\n",
      "9\n",
      "10\n",
      "11\n",
      "12\n",
      "13\n",
      "14\n",
      "15\n",
      "16\n",
      "17\n"
     ]
    },
    {
     "name": "stderr",
     "output_type": "stream",
     "text": [
      "Device set to use cuda:0\n"
     ]
    },
    {
     "name": "stdout",
     "output_type": "stream",
     "text": [
      "pipeline#18\n"
     ]
    },
    {
     "name": "stderr",
     "output_type": "stream",
     "text": [
      "100%|██████████| 9815/9815 [05:14<00:00, 31.25it/s]\n"
     ]
    },
    {
     "name": "stdout",
     "output_type": "stream",
     "text": [
      "results#18\n",
      "max_layer#20\n"
     ]
    },
    {
     "name": "stderr",
     "output_type": "stream",
     "text": [
      "Some weights of the model checkpoint at google-bert/bert-large-uncased-whole-word-masking were not used when initializing BertForMaskedLM: ['bert.pooler.dense.bias', 'bert.pooler.dense.weight', 'cls.seq_relationship.bias', 'cls.seq_relationship.weight']\n",
      "- This IS expected if you are initializing BertForMaskedLM from the checkpoint of a model trained on another task or with another architecture (e.g. initializing a BertForSequenceClassification model from a BertForPreTraining model).\n",
      "- This IS NOT expected if you are initializing BertForMaskedLM from the checkpoint of a model that you expect to be exactly identical (initializing a BertForSequenceClassification model from a BertForSequenceClassification model).\n"
     ]
    },
    {
     "name": "stdout",
     "output_type": "stream",
     "text": [
      "0\n",
      "1\n",
      "2\n",
      "3\n",
      "4\n",
      "5\n",
      "6\n",
      "7\n",
      "8\n",
      "9\n",
      "10\n",
      "11\n",
      "12\n",
      "13\n",
      "14\n",
      "15\n",
      "16\n",
      "17\n",
      "18\n",
      "19\n"
     ]
    },
    {
     "name": "stderr",
     "output_type": "stream",
     "text": [
      "Device set to use cuda:0\n"
     ]
    },
    {
     "name": "stdout",
     "output_type": "stream",
     "text": [
      "pipeline#20\n"
     ]
    },
    {
     "name": "stderr",
     "output_type": "stream",
     "text": [
      "100%|██████████| 9815/9815 [05:16<00:00, 31.04it/s]\n"
     ]
    },
    {
     "name": "stdout",
     "output_type": "stream",
     "text": [
      "results#20\n",
      "max_layer#22\n"
     ]
    },
    {
     "name": "stderr",
     "output_type": "stream",
     "text": [
      "Some weights of the model checkpoint at google-bert/bert-large-uncased-whole-word-masking were not used when initializing BertForMaskedLM: ['bert.pooler.dense.bias', 'bert.pooler.dense.weight', 'cls.seq_relationship.bias', 'cls.seq_relationship.weight']\n",
      "- This IS expected if you are initializing BertForMaskedLM from the checkpoint of a model trained on another task or with another architecture (e.g. initializing a BertForSequenceClassification model from a BertForPreTraining model).\n",
      "- This IS NOT expected if you are initializing BertForMaskedLM from the checkpoint of a model that you expect to be exactly identical (initializing a BertForSequenceClassification model from a BertForSequenceClassification model).\n"
     ]
    },
    {
     "name": "stdout",
     "output_type": "stream",
     "text": [
      "0\n",
      "1\n",
      "2\n",
      "3\n",
      "4\n",
      "5\n",
      "6\n",
      "7\n",
      "8\n",
      "9\n",
      "10\n",
      "11\n",
      "12\n",
      "13\n",
      "14\n",
      "15\n",
      "16\n",
      "17\n",
      "18\n",
      "19\n",
      "20\n",
      "21\n"
     ]
    },
    {
     "name": "stderr",
     "output_type": "stream",
     "text": [
      "Device set to use cuda:0\n"
     ]
    },
    {
     "name": "stdout",
     "output_type": "stream",
     "text": [
      "pipeline#22\n"
     ]
    },
    {
     "name": "stderr",
     "output_type": "stream",
     "text": [
      "100%|██████████| 9815/9815 [05:27<00:00, 29.94it/s]\n"
     ]
    },
    {
     "name": "stdout",
     "output_type": "stream",
     "text": [
      "results#22\n",
      "max_layer#24\n"
     ]
    },
    {
     "name": "stderr",
     "output_type": "stream",
     "text": [
      "Some weights of the model checkpoint at google-bert/bert-large-uncased-whole-word-masking were not used when initializing BertForMaskedLM: ['bert.pooler.dense.bias', 'bert.pooler.dense.weight', 'cls.seq_relationship.bias', 'cls.seq_relationship.weight']\n",
      "- This IS expected if you are initializing BertForMaskedLM from the checkpoint of a model trained on another task or with another architecture (e.g. initializing a BertForSequenceClassification model from a BertForPreTraining model).\n",
      "- This IS NOT expected if you are initializing BertForMaskedLM from the checkpoint of a model that you expect to be exactly identical (initializing a BertForSequenceClassification model from a BertForSequenceClassification model).\n"
     ]
    },
    {
     "name": "stdout",
     "output_type": "stream",
     "text": [
      "0\n",
      "1\n",
      "2\n",
      "3\n",
      "4\n",
      "5\n",
      "6\n",
      "7\n",
      "8\n",
      "9\n",
      "10\n",
      "11\n",
      "12\n",
      "13\n",
      "14\n",
      "15\n",
      "16\n",
      "17\n",
      "18\n",
      "19\n",
      "20\n",
      "21\n",
      "22\n",
      "23\n"
     ]
    },
    {
     "name": "stderr",
     "output_type": "stream",
     "text": [
      "Device set to use cuda:0\n"
     ]
    },
    {
     "name": "stdout",
     "output_type": "stream",
     "text": [
      "pipeline#24\n"
     ]
    },
    {
     "name": "stderr",
     "output_type": "stream",
     "text": [
      "100%|██████████| 9815/9815 [05:04<00:00, 32.26it/s]"
     ]
    },
    {
     "name": "stdout",
     "output_type": "stream",
     "text": [
      "results#24\n"
     ]
    },
    {
     "name": "stderr",
     "output_type": "stream",
     "text": [
      "\n"
     ]
    }
   ],
   "source": [
    "max_rank = 256\n",
    "NUM_ATTENTION_LAYERS = 24\n",
    "all_layers = NUM_ATTENTION_LAYERS\n",
    "\n",
    "for max_layer in range(2, 25, 2):\n",
    "    print(f'max_layer#{max_layer}')\n",
    "    device = torch.device('cuda:0')\n",
    "    model = GetOriginalModel()\n",
    "    modified_model = MakeModifiedAdaptiveModel(model, max_rank, max_layer, all_layers, device)\n",
    "    pipe_modified = pipeline(\n",
    "        \"fill-mask\",\n",
    "        model=modified_model,\n",
    "        tokenizer=tokenizer,\n",
    "        device=device\n",
    "    )\n",
    "\n",
    "    print(f'pipeline#{max_layer}')\n",
    "    results = evaluate_piped_mask_filling(pipe_modified, dataset, device)\n",
    "    print(f'results#{max_layer}')\n",
    "    with open(f'bert-accuracy-scores/truncated-model-adaptive-256-{max_layer}.json', 'w') as file:\n",
    "        json.dump(results, file, indent=4)"
   ]
  },
  {
   "cell_type": "code",
   "execution_count": null,
   "id": "37004cb3",
   "metadata": {},
   "outputs": [
    {
     "name": "stdout",
     "output_type": "stream",
     "text": [
      "max_layer#4\n"
     ]
    },
    {
     "name": "stderr",
     "output_type": "stream",
     "text": [
      "Some weights of the model checkpoint at google-bert/bert-large-uncased-whole-word-masking were not used when initializing BertForMaskedLM: ['bert.pooler.dense.bias', 'bert.pooler.dense.weight', 'cls.seq_relationship.bias', 'cls.seq_relationship.weight']\n",
      "- This IS expected if you are initializing BertForMaskedLM from the checkpoint of a model trained on another task or with another architecture (e.g. initializing a BertForSequenceClassification model from a BertForPreTraining model).\n",
      "- This IS NOT expected if you are initializing BertForMaskedLM from the checkpoint of a model that you expect to be exactly identical (initializing a BertForSequenceClassification model from a BertForSequenceClassification model).\n"
     ]
    },
    {
     "name": "stdout",
     "output_type": "stream",
     "text": [
      "0\n",
      "1\n",
      "2\n",
      "3\n"
     ]
    },
    {
     "name": "stderr",
     "output_type": "stream",
     "text": [
      "Device set to use cuda:0\n"
     ]
    },
    {
     "name": "stdout",
     "output_type": "stream",
     "text": [
      "pipeline#4\n"
     ]
    },
    {
     "name": "stderr",
     "output_type": "stream",
     "text": [
      "100%|██████████| 9815/9815 [02:48<00:00, 58.25it/s]\n"
     ]
    },
    {
     "name": "stdout",
     "output_type": "stream",
     "text": [
      "results#4\n",
      "max_layer#8\n"
     ]
    },
    {
     "name": "stderr",
     "output_type": "stream",
     "text": [
      "Some weights of the model checkpoint at google-bert/bert-large-uncased-whole-word-masking were not used when initializing BertForMaskedLM: ['bert.pooler.dense.bias', 'bert.pooler.dense.weight', 'cls.seq_relationship.bias', 'cls.seq_relationship.weight']\n",
      "- This IS expected if you are initializing BertForMaskedLM from the checkpoint of a model trained on another task or with another architecture (e.g. initializing a BertForSequenceClassification model from a BertForPreTraining model).\n",
      "- This IS NOT expected if you are initializing BertForMaskedLM from the checkpoint of a model that you expect to be exactly identical (initializing a BertForSequenceClassification model from a BertForSequenceClassification model).\n"
     ]
    },
    {
     "name": "stdout",
     "output_type": "stream",
     "text": [
      "0\n",
      "1\n",
      "2\n",
      "3\n",
      "4\n",
      "5\n",
      "6\n",
      "7\n"
     ]
    },
    {
     "name": "stderr",
     "output_type": "stream",
     "text": [
      "Device set to use cuda:0\n"
     ]
    },
    {
     "name": "stdout",
     "output_type": "stream",
     "text": [
      "pipeline#8\n"
     ]
    },
    {
     "name": "stderr",
     "output_type": "stream",
     "text": [
      "100%|██████████| 9815/9815 [02:55<00:00, 55.82it/s]\n"
     ]
    },
    {
     "name": "stdout",
     "output_type": "stream",
     "text": [
      "results#8\n",
      "max_layer#12\n"
     ]
    },
    {
     "name": "stderr",
     "output_type": "stream",
     "text": [
      "Some weights of the model checkpoint at google-bert/bert-large-uncased-whole-word-masking were not used when initializing BertForMaskedLM: ['bert.pooler.dense.bias', 'bert.pooler.dense.weight', 'cls.seq_relationship.bias', 'cls.seq_relationship.weight']\n",
      "- This IS expected if you are initializing BertForMaskedLM from the checkpoint of a model trained on another task or with another architecture (e.g. initializing a BertForSequenceClassification model from a BertForPreTraining model).\n",
      "- This IS NOT expected if you are initializing BertForMaskedLM from the checkpoint of a model that you expect to be exactly identical (initializing a BertForSequenceClassification model from a BertForSequenceClassification model).\n"
     ]
    },
    {
     "name": "stdout",
     "output_type": "stream",
     "text": [
      "0\n",
      "1\n",
      "2\n",
      "3\n",
      "4\n",
      "5\n",
      "6\n",
      "7\n",
      "8\n",
      "9\n",
      "10\n",
      "11\n"
     ]
    },
    {
     "name": "stderr",
     "output_type": "stream",
     "text": [
      "Device set to use cuda:0\n"
     ]
    },
    {
     "name": "stdout",
     "output_type": "stream",
     "text": [
      "pipeline#12\n"
     ]
    },
    {
     "name": "stderr",
     "output_type": "stream",
     "text": [
      "100%|██████████| 9815/9815 [03:09<00:00, 51.79it/s]\n"
     ]
    },
    {
     "name": "stdout",
     "output_type": "stream",
     "text": [
      "results#12\n",
      "max_layer#16\n"
     ]
    },
    {
     "name": "stderr",
     "output_type": "stream",
     "text": [
      "Some weights of the model checkpoint at google-bert/bert-large-uncased-whole-word-masking were not used when initializing BertForMaskedLM: ['bert.pooler.dense.bias', 'bert.pooler.dense.weight', 'cls.seq_relationship.bias', 'cls.seq_relationship.weight']\n",
      "- This IS expected if you are initializing BertForMaskedLM from the checkpoint of a model trained on another task or with another architecture (e.g. initializing a BertForSequenceClassification model from a BertForPreTraining model).\n",
      "- This IS NOT expected if you are initializing BertForMaskedLM from the checkpoint of a model that you expect to be exactly identical (initializing a BertForSequenceClassification model from a BertForSequenceClassification model).\n"
     ]
    },
    {
     "name": "stdout",
     "output_type": "stream",
     "text": [
      "0\n",
      "1\n",
      "2\n",
      "3\n",
      "4\n",
      "5\n",
      "6\n",
      "7\n",
      "8\n",
      "9\n",
      "10\n",
      "11\n",
      "12\n",
      "13\n",
      "14\n",
      "15\n"
     ]
    },
    {
     "name": "stderr",
     "output_type": "stream",
     "text": [
      "Device set to use cuda:0\n"
     ]
    },
    {
     "name": "stdout",
     "output_type": "stream",
     "text": [
      "pipeline#16\n"
     ]
    },
    {
     "name": "stderr",
     "output_type": "stream",
     "text": [
      "100%|██████████| 9815/9815 [03:08<00:00, 52.15it/s]\n"
     ]
    },
    {
     "name": "stdout",
     "output_type": "stream",
     "text": [
      "results#16\n",
      "max_layer#20\n"
     ]
    },
    {
     "name": "stderr",
     "output_type": "stream",
     "text": [
      "Some weights of the model checkpoint at google-bert/bert-large-uncased-whole-word-masking were not used when initializing BertForMaskedLM: ['bert.pooler.dense.bias', 'bert.pooler.dense.weight', 'cls.seq_relationship.bias', 'cls.seq_relationship.weight']\n",
      "- This IS expected if you are initializing BertForMaskedLM from the checkpoint of a model trained on another task or with another architecture (e.g. initializing a BertForSequenceClassification model from a BertForPreTraining model).\n",
      "- This IS NOT expected if you are initializing BertForMaskedLM from the checkpoint of a model that you expect to be exactly identical (initializing a BertForSequenceClassification model from a BertForSequenceClassification model).\n"
     ]
    },
    {
     "name": "stdout",
     "output_type": "stream",
     "text": [
      "0\n",
      "1\n",
      "2\n",
      "3\n",
      "4\n",
      "5\n",
      "6\n",
      "7\n",
      "8\n",
      "9\n",
      "10\n",
      "11\n",
      "12\n",
      "13\n",
      "14\n",
      "15\n",
      "16\n",
      "17\n",
      "18\n",
      "19\n"
     ]
    },
    {
     "name": "stderr",
     "output_type": "stream",
     "text": [
      "Device set to use cuda:0\n"
     ]
    },
    {
     "name": "stdout",
     "output_type": "stream",
     "text": [
      "pipeline#20\n"
     ]
    },
    {
     "name": "stderr",
     "output_type": "stream",
     "text": [
      "100%|██████████| 9815/9815 [03:04<00:00, 53.33it/s]\n"
     ]
    },
    {
     "name": "stdout",
     "output_type": "stream",
     "text": [
      "results#20\n",
      "max_layer#24\n"
     ]
    },
    {
     "name": "stderr",
     "output_type": "stream",
     "text": [
      "Some weights of the model checkpoint at google-bert/bert-large-uncased-whole-word-masking were not used when initializing BertForMaskedLM: ['bert.pooler.dense.bias', 'bert.pooler.dense.weight', 'cls.seq_relationship.bias', 'cls.seq_relationship.weight']\n",
      "- This IS expected if you are initializing BertForMaskedLM from the checkpoint of a model trained on another task or with another architecture (e.g. initializing a BertForSequenceClassification model from a BertForPreTraining model).\n",
      "- This IS NOT expected if you are initializing BertForMaskedLM from the checkpoint of a model that you expect to be exactly identical (initializing a BertForSequenceClassification model from a BertForSequenceClassification model).\n"
     ]
    },
    {
     "name": "stdout",
     "output_type": "stream",
     "text": [
      "0\n",
      "1\n",
      "2\n",
      "3\n",
      "4\n",
      "5\n",
      "6\n",
      "7\n",
      "8\n",
      "9\n",
      "10\n",
      "11\n",
      "12\n",
      "13\n",
      "14\n",
      "15\n",
      "16\n",
      "17\n",
      "18\n",
      "19\n",
      "20\n",
      "21\n",
      "22\n",
      "23\n"
     ]
    },
    {
     "name": "stderr",
     "output_type": "stream",
     "text": [
      "Device set to use cuda:0\n"
     ]
    },
    {
     "name": "stdout",
     "output_type": "stream",
     "text": [
      "pipeline#24\n"
     ]
    },
    {
     "name": "stderr",
     "output_type": "stream",
     "text": [
      "100%|██████████| 9815/9815 [03:05<00:00, 52.91it/s]"
     ]
    },
    {
     "name": "stdout",
     "output_type": "stream",
     "text": [
      "results#24\n"
     ]
    },
    {
     "name": "stderr",
     "output_type": "stream",
     "text": [
      "\n"
     ]
    }
   ],
   "source": [
    "max_rank = 128\n",
    "NUM_ATTENTION_LAYERS = 24\n",
    "all_layers = NUM_ATTENTION_LAYERS\n",
    "\n",
    "for max_layer in range(4, 25, 4):\n",
    "    print(f'max_layer#{max_layer}')\n",
    "    device = torch.device('cuda:0')\n",
    "    model = GetOriginalModel()\n",
    "    modified_model = MakeModifiedAdaptiveModel(model, max_rank, max_layer, all_layers, device)\n",
    "    pipe_modified = pipeline(\n",
    "        \"fill-mask\",\n",
    "        model=modified_model,\n",
    "        tokenizer=tokenizer,\n",
    "        device=device\n",
    "    )\n",
    "\n",
    "    print(f'pipeline#{max_layer}')\n",
    "    results = evaluate_piped_mask_filling(pipe_modified, dataset, device)\n",
    "    print(f'results#{max_layer}')\n",
    "    with open(f'bert-accuracy-scores/truncated-model-adaptive-128-{max_layer}.json', 'w') as file:\n",
    "        json.dump(results, file, indent=4)"
   ]
  },
  {
   "cell_type": "code",
   "execution_count": null,
   "id": "d1a69c65",
   "metadata": {},
   "outputs": [
    {
     "name": "stderr",
     "output_type": "stream",
     "text": [
      "Some weights of the model checkpoint at google-bert/bert-large-uncased-whole-word-masking were not used when initializing BertForMaskedLM: ['bert.pooler.dense.bias', 'bert.pooler.dense.weight', 'cls.seq_relationship.bias', 'cls.seq_relationship.weight']\n",
      "- This IS expected if you are initializing BertForMaskedLM from the checkpoint of a model trained on another task or with another architecture (e.g. initializing a BertForSequenceClassification model from a BertForPreTraining model).\n",
      "- This IS NOT expected if you are initializing BertForMaskedLM from the checkpoint of a model that you expect to be exactly identical (initializing a BertForSequenceClassification model from a BertForSequenceClassification model).\n"
     ]
    }
   ],
   "source": [
    "accuracy_scores_256 = []\n",
    "accuracy_scores_128 = []\n",
    "parameters_ratio_256 = []\n",
    "parameters_ratio_128 = []\n",
    "\n",
    "accuracy_scores_adaptive_256 = []\n",
    "accuracy_scores_adaptive_128 = []\n",
    "parameters_ratio_adaptive_256 = []\n",
    "parameters_ratio_adaptive_128 = []\n",
    "\n",
    "model = GetOriginalModel()\n",
    "\n",
    "for i in range(0, 25, 2):\n",
    "    with open(f'bert-accuracy-scores/truncated-model-256-{i}.json', 'r') as file:\n",
    "        model_parameters = json.load(file)\n",
    "        accuracy_scores_256.append(model_parameters['mask_filling_accuracy'])\n",
    "        parameters_ratio_256.append(model_parameters['nun_parameters'] / model.num_parameters())\n",
    "    with open(f'bert-accuracy-scores/truncated-model-128-{i}.json', 'r') as file:\n",
    "        model_parameters = json.load(file)\n",
    "        accuracy_scores_128.append(model_parameters['mask_filling_accuracy'])\n",
    "        parameters_ratio_128.append(model_parameters['nun_parameters'] / model.num_parameters())\n",
    "    if i % 4 == 2:\n",
    "        with open(f'bert-accuracy-scores/truncated-model-adaptive-256-{i}.json', 'r') as file:\n",
    "            model_parameters = json.load(file)\n",
    "            accuracy_scores_adaptive_256.append(model_parameters['mask_filling_accuracy'])\n",
    "            parameters_ratio_adaptive_256.append(model_parameters['nun_parameters'] / model.num_parameters())\n",
    "    if i % 4 == 0:\n",
    "        with open(f'bert-accuracy-scores/truncated-model-adaptive-128-{i}.json', 'r') as file:\n",
    "            model_parameters = json.load(file)\n",
    "            accuracy_scores_adaptive_128.append(model_parameters['mask_filling_accuracy'])\n",
    "            parameters_ratio_adaptive_128.append(model_parameters['nun_parameters'] / model.num_parameters())\n"
   ]
  },
  {
   "cell_type": "code",
   "execution_count": 52,
   "id": "f117d08b",
   "metadata": {},
   "outputs": [
    {
     "data": {
      "image/png": "[encoded data removed]",
      "text/plain": [
       "<Figure size 2000x600 with 2 Axes>"
      ]
     },
     "metadata": {},
     "output_type": "display_data"
    }
   ],
   "source": [
    "plt.figure(figsize=(20, 6))\n",
    "\n",
    "plt.subplot(1, 2, 1)\n",
    "plt.plot(np.arange(0, 25, 2), accuracy_scores_256, color='skyblue', label='rank 256')\n",
    "plt.plot(np.arange(0, 25, 2), accuracy_scores_128, color='orange', label='rank 128')\n",
    "plt.plot(np.arange(2, 25, 4), accuracy_scores_adaptive_256, color='skyblue', linestyle='--', label='adaptive rank 256')\n",
    "plt.plot(np.arange(0, 25, 4), accuracy_scores_adaptive_128, color='orange', linestyle='--', label='adaptive rank 128')\n",
    "plt.xlabel('Number of compressed Attention layers')\n",
    "plt.legend()\n",
    "plt.grid()\n",
    "\n",
    "plt.subplot(1, 2, 2)\n",
    "plt.scatter(parameters_ratio_256,accuracy_scores_256, marker='+', color='skyblue', s=100, label='rank 256')\n",
    "plt.scatter(parameters_ratio_128, accuracy_scores_128, marker='+', color='orange', s=100, label='rank 128')\n",
    "plt.scatter(parameters_ratio_adaptive_256, accuracy_scores_adaptive_256, marker='x', color='skyblue', s=100, label='adaptive rank 256')\n",
    "plt.scatter(parameters_ratio_adaptive_128, accuracy_scores_adaptive_128, marker='x', color='orange', s=100, label='adaptive rank 128')\n",
    "plt.xlabel('Ratio of model size(relative to original)')\n",
    "plt.legend()\n",
    "plt.grid()\n",
    "\n",
    "plt.suptitle('Accuracy score on top-5 masked filling(nyu-mli/multi_nli)')\n",
    "plt.show()"
   ]
  }
 ],
 "metadata": {
  "kernelspec": {
   "display_name": "transformers-env",
   "language": "python",
   "name": "python3"
  },
  "language_info": {
   "codemirror_mode": {
    "name": "ipython",
    "version": 3
   },
   "file_extension": ".py",
   "mimetype": "text/x-python",
   "name": "python",
   "nbconvert_exporter": "python",
   "pygments_lexer": "ipython3",
   "version": "3.12.3"
  }
 },
 "nbformat": 4,
 "nbformat_minor": 5
}
