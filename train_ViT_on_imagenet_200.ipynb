{
 "cells": [
  {
   "cell_type": "code",
   "execution_count": 16,
   "id": "dd056548",
   "metadata": {},
   "outputs": [],
   "source": [
    "from svd_compression import decompose_layers\n",
    "from training_utils.trainer import Trainer\n",
    "\n",
    "import torch\n",
    "from torch.utils.data import random_split, DataLoader\n",
    "\n",
    "from torchvision.datasets import ImageFolder\n",
    "from torchvision import transforms\n",
    "\n",
    "from transformers import AutoModelForImageClassification"
   ]
  },
  {
   "cell_type": "code",
   "execution_count": 17,
   "id": "29391f66",
   "metadata": {},
   "outputs": [],
   "source": [
    "ImageNetValidationTransformation = transforms.Compose([\n",
    "    transforms.Resize(256),\n",
    "    transforms.CenterCrop(224),\n",
    "    transforms.ToTensor(),\n",
    "    transforms.Normalize(\n",
    "        mean=[0.485, 0.456, 0.406],  # ImageNet mean\n",
    "        std=[0.229, 0.224, 0.225],   # ImageNet std\n",
    "    ),\n",
    "])\n",
    "\n",
    "dataset = ImageFolder(\n",
    "    root='tiny-imagenet-200/train', \n",
    "    transform=ImageNetValidationTransformation\n",
    ")\n",
    "\n",
    "train_dataset, val_dataset, test_dataset = random_split(dataset, [0.8, 0.1, 0.1])"
   ]
  },
  {
   "cell_type": "code",
   "execution_count": 41,
   "id": "e444808b",
   "metadata": {},
   "outputs": [],
   "source": [
    "import pickle\n",
    "\n",
    "with open('imgnet200_datasets.pkl', 'wb') as file:\n",
    "    pickle.dump((train_dataset, val_dataset, test_dataset), file)"
   ]
  },
  {
   "cell_type": "code",
   "execution_count": 18,
   "id": "1d3d7c59",
   "metadata": {},
   "outputs": [],
   "source": [
    "train_loader = DataLoader(train_dataset, batch_size=256, shuffle=True)\n",
    "val_loader = DataLoader(val_dataset, batch_size=256, shuffle=True)\n",
    "test_loader = DataLoader(test_dataset, batch_size=256, shuffle=True)"
   ]
  },
  {
   "cell_type": "code",
   "execution_count": 13,
   "id": "04968503",
   "metadata": {},
   "outputs": [
    {
     "name": "stdout",
     "output_type": "stream",
     "text": [
      "{'initial_num_of_weights': 86567656, 'post_svd_num_of_weights': 47639272, 'after / before': 0.5503126017412323}\n",
      "Gotcha!\n",
      "Compression ratio: 0.5503126017412323\n"
     ]
    }
   ],
   "source": [
    "device = 'cuda:4'\n",
    "model = AutoModelForImageClassification.from_pretrained(\"google/vit-base-patch16-224\")\n",
    "model.load_state_dict(torch.load('ViTimgnet200_0.86acc.pt'))\n",
    "\n",
    "\n",
    "num_params_wo_compression = sum(p.numel() for p in model.parameters())\n",
    "model = decompose_layers(model, threshold=1, max_rank=192)\n",
    "num_params_with_compression = sum(p.numel() for p in model.parameters())\n",
    "\n",
    "print(f'Compression ratio: {num_params_with_compression / num_params_wo_compression}')\n",
    "\n",
    "model.to(device)\n",
    "\n",
    "optimizer = torch.optim.Adam(model.parameters(), lr=1e-4)\n",
    "scheduler = torch.optim.lr_scheduler.CosineAnnealingLR(optimizer, T_max=1000)\n",
    "\n",
    "trainer = Trainer(\n",
    "    model, \n",
    "    train_loader,\n",
    "    val_loader, \n",
    "    optimizer, \n",
    "    scheduler, \n",
    "    device\n",
    ")"
   ]
  },
  {
   "cell_type": "code",
   "execution_count": 18,
   "id": "c22bcac2",
   "metadata": {},
   "outputs": [
    {
     "data": {
      "application/vnd.jupyter.widget-view+json": {
       "model_id": "53ea6439f8f74bf399b9158a70d5a862",
       "version_major": 2,
       "version_minor": 0
      },
      "text/plain": [
       "  0%|          | 0/2 [00:00<?, ?it/s]"
      ]
     },
     "metadata": {},
     "output_type": "display_data"
    },
    {
     "data": {
      "application/vnd.jupyter.widget-view+json": {
       "model_id": "550e4cff552342d89426647c4bd49dff",
       "version_major": 2,
       "version_minor": 0
      },
      "text/plain": [
       "  0%|          | 0/313 [00:00<?, ?it/s]"
      ]
     },
     "metadata": {},
     "output_type": "display_data"
    },
    {
     "ename": "AttributeError",
     "evalue": "'Trainer' object has no attribute 'validation_step'",
     "output_type": "error",
     "traceback": [
      "\u001B[0;31m---------------------------------------------------------------------------\u001B[0m",
      "\u001B[0;31mAttributeError\u001B[0m                            Traceback (most recent call last)",
      "Cell \u001B[0;32mIn[18], line 1\u001B[0m\n\u001B[0;32m----> 1\u001B[0m train_history, val_history \u001B[38;5;241m=\u001B[39m \u001B[43mtrainer\u001B[49m\u001B[38;5;241;43m.\u001B[39;49m\u001B[43mrun\u001B[49m\u001B[43m(\u001B[49m\u001B[38;5;241;43m2\u001B[39;49m\u001B[43m)\u001B[49m\n",
      "Cell \u001B[0;32mIn[7], line 59\u001B[0m, in \u001B[0;36mTrainer.run\u001B[0;34m(self, num_epochs)\u001B[0m\n\u001B[1;32m     57\u001B[0m \u001B[38;5;28;01mfor\u001B[39;00m _ \u001B[38;5;129;01min\u001B[39;00m tqdm(\u001B[38;5;28mrange\u001B[39m(num_epochs)):\n\u001B[1;32m     58\u001B[0m     train_history\u001B[38;5;241m.\u001B[39mextend(\u001B[38;5;28mself\u001B[39m\u001B[38;5;241m.\u001B[39mtrain_step())\n\u001B[0;32m---> 59\u001B[0m     val_history\u001B[38;5;241m.\u001B[39mextend(\u001B[38;5;28;43mself\u001B[39;49m\u001B[38;5;241;43m.\u001B[39;49m\u001B[43mvalidation_step\u001B[49m())\n\u001B[1;32m     61\u001B[0m \u001B[38;5;28;01mreturn\u001B[39;00m train_history, val_history\n",
      "\u001B[0;31mAttributeError\u001B[0m: 'Trainer' object has no attribute 'validation_step'"
     ]
    }
   ],
   "source": "train_history, val_history = trainer.run(num_epochs=3)"
  },
  {
   "cell_type": "code",
   "execution_count": 19,
   "id": "18608ead",
   "metadata": {},
   "outputs": [
    {
     "data": {
      "application/vnd.jupyter.widget-view+json": {
       "model_id": "cd0c20a5b5914742b9fa61681ad0748a",
       "version_major": 2,
       "version_minor": 0
      },
      "text/plain": [
       "  0%|          | 0/40 [00:00<?, ?it/s]"
      ]
     },
     "metadata": {},
     "output_type": "display_data"
    },
    {
     "data": {
      "text/plain": [
       "{'accuracy': 0.81210935,\n",
       " 'accuracy@5': 0.89384765625,\n",
       " 'loss': 0.780474791303277}"
      ]
     },
     "execution_count": 19,
     "metadata": {},
     "output_type": "execute_result"
    }
   ],
   "source": [
    "trainer.val_step(k_for_top_k=5)"
   ]
  }
 ],
 "metadata": {
  "kernelspec": {
   "display_name": "Python 3 (ipykernel)",
   "language": "python",
   "name": "python3"
  },
  "language_info": {
   "codemirror_mode": {
    "name": "ipython",
    "version": 3
   },
   "file_extension": ".py",
   "mimetype": "text/x-python",
   "name": "python",
   "nbconvert_exporter": "python",
   "pygments_lexer": "ipython3",
   "version": "3.10.12"
  }
 },
 "nbformat": 4,
 "nbformat_minor": 5
}
